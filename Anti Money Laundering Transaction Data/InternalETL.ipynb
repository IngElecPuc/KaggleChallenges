{
 "cells": [
  {
   "cell_type": "code",
   "execution_count": 1,
   "id": "9a83ea96-8722-4f35-bcc5-3374eae4a4d9",
   "metadata": {},
   "outputs": [
    {
     "name": "stderr",
     "output_type": "stream",
     "text": [
      "E:\\Felpipe\\Trabajo\\Ciencias de datos en general\\KaggleChallenges\\venv\\lib\\site-packages\\pyspark\\pandas\\__init__.py:43: UserWarning: 'PYARROW_IGNORE_TIMEZONE' environment variable was not set. It is required to set this environment variable to '1' in both driver and executor sides if you use pyarrow>=2.0.0. pandas-on-Spark will set it for you but it does not work if there is a Spark context already launched.\n",
      "  warnings.warn(\n"
     ]
    }
   ],
   "source": [
    "from pyspark.sql import SparkSession\n",
    "import pyspark.pandas as ps"
   ]
  },
  {
   "cell_type": "code",
   "execution_count": 2,
   "id": "0a7c42e2-5c3c-43e3-b7b1-21cff5c95c3b",
   "metadata": {},
   "outputs": [],
   "source": [
    "PG_URL  = 'jdbc:postgresql://localhost:5432/graphs'\n",
    "PG_USER = 'spark_ingest'\n",
    "PG_PASS = 'GYleZAI2pTBKJYl9W1PL'\n",
    "PG_SCHEMA = 'raw'\n",
    "PG_TABLE =  'saml_d'\n",
    "JDBC_JAR = r\"C:\\spark\\spark-4.0.1-bin-hadoop3\\jars\\postgresql-42.7.4.jar\"  "
   ]
  },
  {
   "cell_type": "code",
   "execution_count": 3,
   "id": "a2f1a9a2-a9ae-40b4-9767-87152f30b337",
   "metadata": {},
   "outputs": [],
   "source": [
    "spark = (\n",
    "    SparkSession.builder\n",
    "    .appName(\"ieee-fraud-jupyter\")\n",
    "    .config(\"spark.jars\", JDBC_JAR)\n",
    "    .config(\"spark.driver.extraClassPath\", JDBC_JAR)\n",
    "    .config(\"spark.executor.extraClassPath\", JDBC_JAR)\n",
    "    .config(\"spark.sql.ansi.enabled\", \"false\") #Para poder usar la API de pandas pues no soporta modo ansi\n",
    "    .getOrCreate()\n",
    ")"
   ]
  },
  {
   "cell_type": "code",
   "execution_count": 4,
   "id": "6c6e2b6e-bc94-4465-a868-e913d22db21c",
   "metadata": {},
   "outputs": [],
   "source": [
    "sdf = (\n",
    "    spark.read.format(\"jdbc\")\n",
    "    .option(\"url\", PG_URL)\n",
    "    .option(\"dbtable\", f\"{PG_SCHEMA}.{PG_TABLE}\")  \n",
    "    .option(\"user\", PG_USER)\n",
    "    .option(\"password\", PG_PASS)\n",
    "    .option(\"driver\", \"org.postgresql.Driver\")\n",
    "    .option(\"partitionColumn\", \"id\")\n",
    "    .option(\"lowerBound\", \"1\")\n",
    "    .option(\"upperBound\", \"10000000\")\n",
    "    .option(\"numPartitions\", \"6\")\n",
    "    .option(\"fetchsize\", \"10000\")\n",
    "    .load()\n",
    ")"
   ]
  },
  {
   "cell_type": "code",
   "execution_count": 5,
   "id": "acca07e5-bab4-49f5-bf90-23292f931e55",
   "metadata": {},
   "outputs": [
    {
     "name": "stdout",
     "output_type": "stream",
     "text": [
      "+-------------------+----------+--------------+----------------+--------+----------------+-----------------+--------------------+----------------------+------------+-------------+--------------------+---+\n",
      "|               time|      date|sender_account|receiver_account|  amount|payment_currency|received_currency|sender_bank_location|receiver_bank_location|payment_type|is_laundering|     laundering_type| id|\n",
      "+-------------------+----------+--------------+----------------+--------+----------------+-----------------+--------------------+----------------------+------------+-------------+--------------------+---+\n",
      "|2025-10-13 09:16:59|2022-12-15|    6112386593|      6912017659|  290.56|       UK pounds|        UK pounds|                  UK|                    UK|         ACH|            0|Normal_Small_Fan_Out| 44|\n",
      "|2025-10-13 13:49:38|2022-11-21|     351681005|      6659671585|41642.98|       UK pounds|        UK pounds|                  UK|                    UK|      Cheque|            0|Normal_Small_Fan_Out| 45|\n",
      "|2025-10-13 21:03:52|2022-12-11|    5720955779|      3539142210|10030.22|       UK pounds|        UK pounds|                  UK|                    UK|         ACH|            0|       Normal_Fan_In| 46|\n",
      "|2025-10-13 15:12:43|2022-12-02|    6120462422|       149209688|16898.66|       UK pounds|        UK pounds|                  UK|                    UK|      Cheque|            0|Normal_Small_Fan_Out| 47|\n",
      "|2025-10-13 17:49:06|2022-12-05|    9571180423|      4465528071|14211.06|       UK pounds|        UK pounds|                  UK|                    UK|         ACH|            0|       Normal_Fan_In| 48|\n",
      "+-------------------+----------+--------------+----------------+--------+----------------+-----------------+--------------------+----------------------+------------+-------------+--------------------+---+\n",
      "only showing top 5 rows\n",
      "root\n",
      " |-- time: timestamp (nullable = true)\n",
      " |-- date: date (nullable = true)\n",
      " |-- sender_account: long (nullable = true)\n",
      " |-- receiver_account: long (nullable = true)\n",
      " |-- amount: double (nullable = true)\n",
      " |-- payment_currency: string (nullable = true)\n",
      " |-- received_currency: string (nullable = true)\n",
      " |-- sender_bank_location: string (nullable = true)\n",
      " |-- receiver_bank_location: string (nullable = true)\n",
      " |-- payment_type: string (nullable = true)\n",
      " |-- is_laundering: integer (nullable = true)\n",
      " |-- laundering_type: string (nullable = true)\n",
      " |-- id: long (nullable = true)\n",
      "\n"
     ]
    }
   ],
   "source": [
    "sdf.show(5)\n",
    "sdf.printSchema()"
   ]
  },
  {
   "cell_type": "code",
   "execution_count": 6,
   "id": "c40486ce-930c-4458-9c8b-f0287cb9f98a",
   "metadata": {},
   "outputs": [],
   "source": [
    "df = sdf.pandas_api(index_col=\"id\")"
   ]
  },
  {
   "cell_type": "code",
   "execution_count": 7,
   "id": "f90f761b-f757-4d8e-802b-50228d814c26",
   "metadata": {},
   "outputs": [
    {
     "data": {
      "text/html": [
       "<div>\n",
       "<style scoped>\n",
       "    .dataframe tbody tr th:only-of-type {\n",
       "        vertical-align: middle;\n",
       "    }\n",
       "\n",
       "    .dataframe tbody tr th {\n",
       "        vertical-align: top;\n",
       "    }\n",
       "\n",
       "    .dataframe thead th {\n",
       "        text-align: right;\n",
       "    }\n",
       "</style>\n",
       "<table border=\"1\" class=\"dataframe\">\n",
       "  <thead>\n",
       "    <tr style=\"text-align: right;\">\n",
       "      <th></th>\n",
       "      <th>time</th>\n",
       "      <th>date</th>\n",
       "      <th>sender_account</th>\n",
       "      <th>receiver_account</th>\n",
       "      <th>amount</th>\n",
       "      <th>payment_currency</th>\n",
       "      <th>received_currency</th>\n",
       "      <th>sender_bank_location</th>\n",
       "      <th>receiver_bank_location</th>\n",
       "      <th>payment_type</th>\n",
       "      <th>is_laundering</th>\n",
       "      <th>laundering_type</th>\n",
       "    </tr>\n",
       "    <tr>\n",
       "      <th>id</th>\n",
       "      <th></th>\n",
       "      <th></th>\n",
       "      <th></th>\n",
       "      <th></th>\n",
       "      <th></th>\n",
       "      <th></th>\n",
       "      <th></th>\n",
       "      <th></th>\n",
       "      <th></th>\n",
       "      <th></th>\n",
       "      <th></th>\n",
       "      <th></th>\n",
       "    </tr>\n",
       "  </thead>\n",
       "  <tbody>\n",
       "    <tr>\n",
       "      <th>10759</th>\n",
       "      <td>2025-10-13 15:54:12</td>\n",
       "      <td>2022-11-17</td>\n",
       "      <td>9855632427</td>\n",
       "      <td>7472681116</td>\n",
       "      <td>2154.21</td>\n",
       "      <td>UK pounds</td>\n",
       "      <td>UK pounds</td>\n",
       "      <td>UK</td>\n",
       "      <td>UK</td>\n",
       "      <td>Cheque</td>\n",
       "      <td>0</td>\n",
       "      <td>Normal_Small_Fan_Out</td>\n",
       "    </tr>\n",
       "    <tr>\n",
       "      <th>10760</th>\n",
       "      <td>2025-10-13 11:53:08</td>\n",
       "      <td>2022-12-15</td>\n",
       "      <td>5022191310</td>\n",
       "      <td>1315794902</td>\n",
       "      <td>10023.32</td>\n",
       "      <td>UK pounds</td>\n",
       "      <td>UK pounds</td>\n",
       "      <td>UK</td>\n",
       "      <td>UK</td>\n",
       "      <td>Credit card</td>\n",
       "      <td>0</td>\n",
       "      <td>Normal_Fan_In</td>\n",
       "    </tr>\n",
       "    <tr>\n",
       "      <th>10761</th>\n",
       "      <td>2025-10-13 19:18:16</td>\n",
       "      <td>2022-12-11</td>\n",
       "      <td>2484750288</td>\n",
       "      <td>3855004887</td>\n",
       "      <td>476.51</td>\n",
       "      <td>UK pounds</td>\n",
       "      <td>UK pounds</td>\n",
       "      <td>UK</td>\n",
       "      <td>UK</td>\n",
       "      <td>Cheque</td>\n",
       "      <td>0</td>\n",
       "      <td>Normal_Small_Fan_Out</td>\n",
       "    </tr>\n",
       "    <tr>\n",
       "      <th>10762</th>\n",
       "      <td>2025-10-13 16:49:05</td>\n",
       "      <td>2022-12-04</td>\n",
       "      <td>4497724073</td>\n",
       "      <td>8967784895</td>\n",
       "      <td>3800.76</td>\n",
       "      <td>UK pounds</td>\n",
       "      <td>UK pounds</td>\n",
       "      <td>UK</td>\n",
       "      <td>UK</td>\n",
       "      <td>Cheque</td>\n",
       "      <td>0</td>\n",
       "      <td>Normal_Small_Fan_Out</td>\n",
       "    </tr>\n",
       "    <tr>\n",
       "      <th>10763</th>\n",
       "      <td>2025-10-13 12:14:18</td>\n",
       "      <td>2022-11-30</td>\n",
       "      <td>1159912211</td>\n",
       "      <td>24474863</td>\n",
       "      <td>4754.51</td>\n",
       "      <td>UK pounds</td>\n",
       "      <td>UK pounds</td>\n",
       "      <td>UK</td>\n",
       "      <td>UK</td>\n",
       "      <td>Debit card</td>\n",
       "      <td>0</td>\n",
       "      <td>Normal_Fan_In</td>\n",
       "    </tr>\n",
       "  </tbody>\n",
       "</table>\n",
       "</div>"
      ],
      "text/plain": [
       "                     time        date  sender_account  receiver_account    amount payment_currency received_currency sender_bank_location receiver_bank_location payment_type  is_laundering       laundering_type\n",
       "id                                                                                                                                                                                                                \n",
       "10759 2025-10-13 15:54:12  2022-11-17      9855632427        7472681116   2154.21        UK pounds         UK pounds                   UK                     UK       Cheque              0  Normal_Small_Fan_Out\n",
       "10760 2025-10-13 11:53:08  2022-12-15      5022191310        1315794902  10023.32        UK pounds         UK pounds                   UK                     UK  Credit card              0         Normal_Fan_In\n",
       "10761 2025-10-13 19:18:16  2022-12-11      2484750288        3855004887    476.51        UK pounds         UK pounds                   UK                     UK       Cheque              0  Normal_Small_Fan_Out\n",
       "10762 2025-10-13 16:49:05  2022-12-04      4497724073        8967784895   3800.76        UK pounds         UK pounds                   UK                     UK       Cheque              0  Normal_Small_Fan_Out\n",
       "10763 2025-10-13 12:14:18  2022-11-30      1159912211          24474863   4754.51        UK pounds         UK pounds                   UK                     UK   Debit card              0         Normal_Fan_In"
      ]
     },
     "execution_count": 7,
     "metadata": {},
     "output_type": "execute_result"
    }
   ],
   "source": [
    "df.head()"
   ]
  },
  {
   "cell_type": "code",
   "execution_count": null,
   "id": "ec87cca6-ee5b-4daa-8ad5-3681af44b349",
   "metadata": {},
   "outputs": [],
   "source": []
  }
 ],
 "metadata": {
  "kernelspec": {
   "display_name": "Python 3 (ipykernel)",
   "language": "python",
   "name": "python3"
  },
  "language_info": {
   "codemirror_mode": {
    "name": "ipython",
    "version": 3
   },
   "file_extension": ".py",
   "mimetype": "text/x-python",
   "name": "python",
   "nbconvert_exporter": "python",
   "pygments_lexer": "ipython3",
   "version": "3.10.6"
  }
 },
 "nbformat": 4,
 "nbformat_minor": 5
}
