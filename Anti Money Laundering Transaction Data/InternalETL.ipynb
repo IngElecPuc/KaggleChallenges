{
 "cells": [
  {
   "cell_type": "code",
   "execution_count": 1,
   "id": "9a83ea96-8722-4f35-bcc5-3374eae4a4d9",
   "metadata": {},
   "outputs": [
    {
     "name": "stderr",
     "output_type": "stream",
     "text": [
      "E:\\Felpipe\\Trabajo\\Ciencias de datos en general\\KaggleChallenges\\venv\\lib\\site-packages\\pyspark\\pandas\\__init__.py:43: UserWarning: 'PYARROW_IGNORE_TIMEZONE' environment variable was not set. It is required to set this environment variable to '1' in both driver and executor sides if you use pyarrow>=2.0.0. pandas-on-Spark will set it for you but it does not work if there is a Spark context already launched.\n",
      "  warnings.warn(\n"
     ]
    }
   ],
   "source": [
    "from pyspark.sql import SparkSession\n",
    "import pyspark.pandas as ps"
   ]
  },
  {
   "cell_type": "code",
   "execution_count": 2,
   "id": "0a7c42e2-5c3c-43e3-b7b1-21cff5c95c3b",
   "metadata": {},
   "outputs": [],
   "source": [
    "PG_URL  = 'jdbc:postgresql://localhost:5432/graphs'\n",
    "PG_USER = 'spark_ingest'\n",
    "PG_PASS = 'GYleZAI2pTBKJYl9W1PL'\n",
    "PG_SCHEMA_IN = 'raw'\n",
    "PG_SCHEMA_OUT = 'saml_d'\n",
    "PG_TABLE_IN =  'saml_d'\n",
    "PG_TABLE_OUT1 =  'accounts'\n",
    "PG_TABLE_OUT2 =  'transactions'\n",
    "JDBC_JAR = r\"C:\\spark\\spark-4.0.1-bin-hadoop3\\jars\\postgresql-42.7.4.jar\"  \n",
    "JDBC_BATCHSIZE = 10000\n",
    "JDBC_FETCHSIZE = 10000"
   ]
  },
  {
   "cell_type": "code",
   "execution_count": 3,
   "id": "a2f1a9a2-a9ae-40b4-9767-87152f30b337",
   "metadata": {},
   "outputs": [],
   "source": [
    "spark = (\n",
    "    SparkSession.builder\n",
    "    .appName(\"ieee-fraud-jupyter\")\n",
    "    .config(\"spark.jars\", JDBC_JAR)\n",
    "    .config(\"spark.driver.extraClassPath\", JDBC_JAR)\n",
    "    .config(\"spark.executor.extraClassPath\", JDBC_JAR)\n",
    "    .config(\"spark.sql.ansi.enabled\", \"false\") #Para poder usar la API de pandas pues no soporta modo ansi\n",
    "    .getOrCreate()\n",
    ")"
   ]
  },
  {
   "cell_type": "code",
   "execution_count": 4,
   "id": "6c6e2b6e-bc94-4465-a868-e913d22db21c",
   "metadata": {},
   "outputs": [],
   "source": [
    "sdf = (\n",
    "    spark.read.format(\"jdbc\")\n",
    "    .option(\"url\", PG_URL)\n",
    "    .option(\"dbtable\", f\"{PG_SCHEMA_IN}.{PG_TABLE_IN}\")  \n",
    "    .option(\"user\", PG_USER)\n",
    "    .option(\"password\", PG_PASS)\n",
    "    .option(\"driver\", \"org.postgresql.Driver\")\n",
    "    .option(\"partitionColumn\", \"id\")\n",
    "    .option(\"lowerBound\", \"1\")\n",
    "    .option(\"upperBound\", \"10000000\")\n",
    "    .option(\"numPartitions\", \"6\")\n",
    "    .option(\"fetchsize\", str(JDBC_FETCHSIZE))\n",
    "    .load()\n",
    ")"
   ]
  },
  {
   "cell_type": "code",
   "execution_count": 5,
   "id": "acca07e5-bab4-49f5-bf90-23292f931e55",
   "metadata": {},
   "outputs": [
    {
     "name": "stdout",
     "output_type": "stream",
     "text": [
      "+-------------------+----------+--------------+----------------+---------+----------------+-----------------+--------------------+----------------------+------------+-------------+--------------------+------+\n",
      "|               time|      date|sender_account|receiver_account|   amount|payment_currency|received_currency|sender_bank_location|receiver_bank_location|payment_type|is_laundering|     laundering_type|    id|\n",
      "+-------------------+----------+--------------+----------------+---------+----------------+-----------------+--------------------+----------------------+------------+-------------+--------------------+------+\n",
      "|2025-10-13 15:47:40|2022-12-29|     685305587|      1504939866|  8499.53|       UK pounds|        UK pounds|                  UK|                    UK|  Debit card|            0|       Normal_Fan_In|102350|\n",
      "|2025-10-13 10:45:41|2023-01-27|    2169668400|      8270301079|   526.93|       UK pounds|     Mexican Peso|                  UK|                Mexico|Cross-border|            0|Normal_Small_Fan_Out|102351|\n",
      "|2025-10-13 08:20:37|2023-01-16|    2679068579|      2817291319|  15149.7|            Euro|        UK pounds|               Italy|                    UK|Cross-border|            0|       Normal_Fan_In|102352|\n",
      "|2025-10-13 15:24:35|2023-02-02|    8621886505|      1303453925|163156.24|       UK pounds|        UK pounds|                  UK|                    UK| Credit card|            0| Normal_single_large|102353|\n",
      "|2025-10-13 10:51:49|2023-01-26|    2458300720|      3695918030|  8739.76|       UK pounds|        UK pounds|                  UK|                    UK| Credit card|            0|       Normal_Fan_In|102354|\n",
      "+-------------------+----------+--------------+----------------+---------+----------------+-----------------+--------------------+----------------------+------------+-------------+--------------------+------+\n",
      "only showing top 5 rows\n",
      "root\n",
      " |-- time: timestamp (nullable = true)\n",
      " |-- date: date (nullable = true)\n",
      " |-- sender_account: long (nullable = true)\n",
      " |-- receiver_account: long (nullable = true)\n",
      " |-- amount: double (nullable = true)\n",
      " |-- payment_currency: string (nullable = true)\n",
      " |-- received_currency: string (nullable = true)\n",
      " |-- sender_bank_location: string (nullable = true)\n",
      " |-- receiver_bank_location: string (nullable = true)\n",
      " |-- payment_type: string (nullable = true)\n",
      " |-- is_laundering: integer (nullable = true)\n",
      " |-- laundering_type: string (nullable = true)\n",
      " |-- id: long (nullable = true)\n",
      "\n"
     ]
    }
   ],
   "source": [
    "sdf.show(5)\n",
    "sdf.printSchema()"
   ]
  },
  {
   "cell_type": "code",
   "execution_count": 6,
   "id": "c40486ce-930c-4458-9c8b-f0287cb9f98a",
   "metadata": {},
   "outputs": [],
   "source": [
    "df = sdf.pandas_api(index_col=\"id\")"
   ]
  },
  {
   "cell_type": "code",
   "execution_count": 7,
   "id": "f90f761b-f757-4d8e-802b-50228d814c26",
   "metadata": {},
   "outputs": [
    {
     "data": {
      "text/html": [
       "<div>\n",
       "<style scoped>\n",
       "    .dataframe tbody tr th:only-of-type {\n",
       "        vertical-align: middle;\n",
       "    }\n",
       "\n",
       "    .dataframe tbody tr th {\n",
       "        vertical-align: top;\n",
       "    }\n",
       "\n",
       "    .dataframe thead th {\n",
       "        text-align: right;\n",
       "    }\n",
       "</style>\n",
       "<table border=\"1\" class=\"dataframe\">\n",
       "  <thead>\n",
       "    <tr style=\"text-align: right;\">\n",
       "      <th></th>\n",
       "      <th>time</th>\n",
       "      <th>date</th>\n",
       "      <th>sender_account</th>\n",
       "      <th>receiver_account</th>\n",
       "      <th>amount</th>\n",
       "      <th>payment_currency</th>\n",
       "      <th>received_currency</th>\n",
       "      <th>sender_bank_location</th>\n",
       "      <th>receiver_bank_location</th>\n",
       "      <th>payment_type</th>\n",
       "      <th>is_laundering</th>\n",
       "      <th>laundering_type</th>\n",
       "    </tr>\n",
       "    <tr>\n",
       "      <th>id</th>\n",
       "      <th></th>\n",
       "      <th></th>\n",
       "      <th></th>\n",
       "      <th></th>\n",
       "      <th></th>\n",
       "      <th></th>\n",
       "      <th></th>\n",
       "      <th></th>\n",
       "      <th></th>\n",
       "      <th></th>\n",
       "      <th></th>\n",
       "      <th></th>\n",
       "    </tr>\n",
       "  </thead>\n",
       "  <tbody>\n",
       "    <tr>\n",
       "      <th>112529</th>\n",
       "      <td>2025-10-13 10:46:32</td>\n",
       "      <td>2023-01-23</td>\n",
       "      <td>9958871364</td>\n",
       "      <td>2555658583</td>\n",
       "      <td>4912.00</td>\n",
       "      <td>UK pounds</td>\n",
       "      <td>Indian rupee</td>\n",
       "      <td>UK</td>\n",
       "      <td>India</td>\n",
       "      <td>Cross-border</td>\n",
       "      <td>0</td>\n",
       "      <td>Normal_Fan_Out</td>\n",
       "    </tr>\n",
       "    <tr>\n",
       "      <th>112530</th>\n",
       "      <td>2025-10-13 23:03:43</td>\n",
       "      <td>2023-01-31</td>\n",
       "      <td>1152776992</td>\n",
       "      <td>439915917</td>\n",
       "      <td>1225.17</td>\n",
       "      <td>UK pounds</td>\n",
       "      <td>UK pounds</td>\n",
       "      <td>UK</td>\n",
       "      <td>UK</td>\n",
       "      <td>Credit card</td>\n",
       "      <td>0</td>\n",
       "      <td>Normal_Small_Fan_Out</td>\n",
       "    </tr>\n",
       "    <tr>\n",
       "      <th>112531</th>\n",
       "      <td>2025-10-13 22:34:49</td>\n",
       "      <td>2023-01-04</td>\n",
       "      <td>33382572</td>\n",
       "      <td>4726164558</td>\n",
       "      <td>7005.31</td>\n",
       "      <td>UK pounds</td>\n",
       "      <td>UK pounds</td>\n",
       "      <td>UK</td>\n",
       "      <td>UK</td>\n",
       "      <td>ACH</td>\n",
       "      <td>0</td>\n",
       "      <td>Normal_Fan_Out</td>\n",
       "    </tr>\n",
       "    <tr>\n",
       "      <th>112532</th>\n",
       "      <td>2025-10-13 11:20:03</td>\n",
       "      <td>2023-01-15</td>\n",
       "      <td>2127996378</td>\n",
       "      <td>1083543454</td>\n",
       "      <td>3123.91</td>\n",
       "      <td>UK pounds</td>\n",
       "      <td>UK pounds</td>\n",
       "      <td>UK</td>\n",
       "      <td>UK</td>\n",
       "      <td>Credit card</td>\n",
       "      <td>0</td>\n",
       "      <td>Normal_Small_Fan_Out</td>\n",
       "    </tr>\n",
       "    <tr>\n",
       "      <th>112533</th>\n",
       "      <td>2025-10-13 17:58:45</td>\n",
       "      <td>2023-01-03</td>\n",
       "      <td>9949631050</td>\n",
       "      <td>4823784703</td>\n",
       "      <td>10552.03</td>\n",
       "      <td>UK pounds</td>\n",
       "      <td>UK pounds</td>\n",
       "      <td>UK</td>\n",
       "      <td>UK</td>\n",
       "      <td>ACH</td>\n",
       "      <td>0</td>\n",
       "      <td>Normal_Fan_In</td>\n",
       "    </tr>\n",
       "  </tbody>\n",
       "</table>\n",
       "</div>"
      ],
      "text/plain": [
       "                      time        date  sender_account  receiver_account    amount payment_currency received_currency sender_bank_location receiver_bank_location  payment_type  is_laundering       laundering_type\n",
       "id                                                                                                                                                                                                                  \n",
       "112529 2025-10-13 10:46:32  2023-01-23      9958871364        2555658583   4912.00        UK pounds      Indian rupee                   UK                  India  Cross-border              0        Normal_Fan_Out\n",
       "112530 2025-10-13 23:03:43  2023-01-31      1152776992         439915917   1225.17        UK pounds         UK pounds                   UK                     UK   Credit card              0  Normal_Small_Fan_Out\n",
       "112531 2025-10-13 22:34:49  2023-01-04        33382572        4726164558   7005.31        UK pounds         UK pounds                   UK                     UK           ACH              0        Normal_Fan_Out\n",
       "112532 2025-10-13 11:20:03  2023-01-15      2127996378        1083543454   3123.91        UK pounds         UK pounds                   UK                     UK   Credit card              0  Normal_Small_Fan_Out\n",
       "112533 2025-10-13 17:58:45  2023-01-03      9949631050        4823784703  10552.03        UK pounds         UK pounds                   UK                     UK           ACH              0         Normal_Fan_In"
      ]
     },
     "execution_count": 7,
     "metadata": {},
     "output_type": "execute_result"
    }
   ],
   "source": [
    "df.head()"
   ]
  },
  {
   "cell_type": "code",
   "execution_count": 8,
   "id": "ec87cca6-ee5b-4daa-8ad5-3681af44b349",
   "metadata": {},
   "outputs": [],
   "source": [
    "accounts_df = df[['sender_account', 'receiver_account', 'sender_bank_location', 'receiver_bank_location']]\n",
    "transact_df = df[['time', 'date', 'sender_account', 'receiver_account', 'amount',\n",
    "       'payment_currency', 'received_currency', 'payment_type', 'is_laundering',\n",
    "       'laundering_type']]"
   ]
  },
  {
   "cell_type": "code",
   "execution_count": 9,
   "id": "a3d1b14d-81c3-4e7c-8849-f6c04b055f8a",
   "metadata": {},
   "outputs": [],
   "source": [
    "from pyspark.sql import functions as F, Window\n",
    "\n",
    "pairs = (\n",
    "    sdf.select(F.col(\"sender_account\").alias(\"account\"),\n",
    "              F.col(\"sender_bank_location\").alias(\"location\"))\n",
    "      .unionByName(\n",
    "          sdf.select(F.col(\"receiver_account\").alias(\"account\"),\n",
    "                    F.col(\"receiver_bank_location\").alias(\"location\"))\n",
    "      )\n",
    "      .filter(F.col(\"account\").isNotNull() & F.col(\"location\").isNotNull())\n",
    ")\n",
    "\n",
    "counts = pairs.groupBy(\"account\", \"location\").count()\n",
    "\n",
    "w = Window.partitionBy(\"account\").orderBy(F.col(\"count\").desc(), F.col(\"location\").asc())\n",
    "accounts_dim = (\n",
    "    counts.withColumn(\"rn\", F.row_number().over(w))\n",
    "          .filter(F.col(\"rn\") == 1)\n",
    "          .select(\"account\", \"location\")\n",
    ")\n"
   ]
  },
  {
   "cell_type": "code",
   "execution_count": 13,
   "id": "b60981a2-6f6d-40cf-8bd6-418e650cfb89",
   "metadata": {},
   "outputs": [],
   "source": [
    "(accounts_dim.write\n",
    " .format(\"jdbc\")\n",
    " .option(\"url\", PG_URL)\n",
    " .option(\"dbtable\", f\"{PG_SCHEMA_OUT}.{PG_TABLE_OUT1}\")\n",
    " .option(\"user\", PG_USER)\n",
    " .option(\"password\", PG_PASS)\n",
    " .option(\"driver\", \"org.postgresql.Driver\")\n",
    " .option(\"batchsize\", str(JDBC_BATCHSIZE))\n",
    " .option(\"truncate\", \"true\") \n",
    " .mode(\"overwrite\")  # o 'append'\n",
    " .save())\n"
   ]
  },
  {
   "cell_type": "code",
   "execution_count": 15,
   "id": "45af7e5b-fca0-430d-a7bf-859424b33729",
   "metadata": {
    "scrolled": true
   },
   "outputs": [],
   "source": [
    "from sqlalchemy import create_engine, text\n",
    "from sqlalchemy.engine import URL\n",
    "\n",
    "connection_url = URL.create(\n",
    "    drivername='postgresql+psycopg2',\n",
    "    username=PG_USER,\n",
    "    password=PG_PASS,  \n",
    "    host='localhost',\n",
    "    port=5432,\n",
    "    database='graphs',\n",
    "    query={'sslmode': 'disable'},\n",
    ")\n",
    "engine = create_engine(connection_url)\n",
    "\n",
    "with engine.begin() as conn:\n",
    "    conn.execute(text(\n",
    "        \"ALTER TABLE saml_d.accounts \"\n",
    "        \"ADD CONSTRAINT saml_d_accounts_pkey PRIMARY KEY (account)\"\n",
    "    ))"
   ]
  },
  {
   "cell_type": "code",
   "execution_count": null,
   "id": "b3a2f772-4fed-4a82-adde-f21fe0515123",
   "metadata": {},
   "outputs": [],
   "source": []
  }
 ],
 "metadata": {
  "kernelspec": {
   "display_name": "Python 3 (ipykernel)",
   "language": "python",
   "name": "python3"
  },
  "language_info": {
   "codemirror_mode": {
    "name": "ipython",
    "version": 3
   },
   "file_extension": ".py",
   "mimetype": "text/x-python",
   "name": "python",
   "nbconvert_exporter": "python",
   "pygments_lexer": "ipython3",
   "version": "3.10.6"
  }
 },
 "nbformat": 4,
 "nbformat_minor": 5
}
