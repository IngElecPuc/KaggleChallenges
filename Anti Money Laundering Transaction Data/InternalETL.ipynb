{
 "cells": [
  {
   "cell_type": "code",
   "execution_count": 1,
   "id": "9a83ea96-8722-4f35-bcc5-3374eae4a4d9",
   "metadata": {},
   "outputs": [
    {
     "name": "stderr",
     "output_type": "stream",
     "text": [
      "E:\\Felpipe\\Trabajo\\Ciencias de datos en general\\KaggleChallenges\\venv\\lib\\site-packages\\pyspark\\pandas\\__init__.py:43: UserWarning: 'PYARROW_IGNORE_TIMEZONE' environment variable was not set. It is required to set this environment variable to '1' in both driver and executor sides if you use pyarrow>=2.0.0. pandas-on-Spark will set it for you but it does not work if there is a Spark context already launched.\n",
      "  warnings.warn(\n"
     ]
    }
   ],
   "source": [
    "from pyspark.sql import SparkSession\n",
    "import pyspark.pandas as ps\n",
    "import os, sys\n",
    "os.environ[\"PYARROW_IGNORE_TIMEZONE\"] = \"1\"\n",
    "from pyspark.sql import functions as F, Window"
   ]
  },
  {
   "cell_type": "code",
   "execution_count": 2,
   "id": "0a7c42e2-5c3c-43e3-b7b1-21cff5c95c3b",
   "metadata": {},
   "outputs": [],
   "source": [
    "PG_URL  = 'jdbc:postgresql://localhost:5432/graphs'\n",
    "PG_USER = 'spark_ingest'\n",
    "PG_PASS = 'GYleZAI2pTBKJYl9W1PL'\n",
    "PG_SCHEMA_IN = 'raw'\n",
    "PG_SCHEMA_OUT = 'saml_d'\n",
    "PG_TABLE_IN =  'saml_d'\n",
    "PG_TABLE_OUT1 =  'accounts'\n",
    "PG_TABLE_OUT2 =  'transferences'\n",
    "JDBC_JAR = r\"C:\\spark\\spark-4.0.1-bin-hadoop3\\jars\\postgresql-42.7.4.jar\"  \n",
    "JDBC_BATCHSIZE = 10000\n",
    "JDBC_FETCHSIZE = 10000"
   ]
  },
  {
   "cell_type": "code",
   "execution_count": 3,
   "id": "a2f1a9a2-a9ae-40b4-9767-87152f30b337",
   "metadata": {},
   "outputs": [],
   "source": [
    "spark = (\n",
    "    SparkSession.builder\n",
    "    .appName(\"ieee-fraud-jupyter\")\n",
    "    .config(\"spark.jars\", JDBC_JAR)\n",
    "    .config(\"spark.driver.extraClassPath\", JDBC_JAR)\n",
    "    .config(\"spark.executor.extraClassPath\", JDBC_JAR)\n",
    "    .config(\"spark.sql.ansi.enabled\", \"false\") #Para poder usar la API de pandas pues no soporta modo ansi\n",
    "    .config(\"spark.pyspark.driver.python\", sys.executable)\n",
    "    .config(\"spark.pyspark.python\", sys.executable)\n",
    "    .config(\"spark.sql.execution.arrow.pyspark.enabled\", \"false\")\n",
    "    .config(\"spark.driver.bindAddress\", \"127.0.0.1\")\n",
    "    .getOrCreate()\n",
    ")"
   ]
  },
  {
   "cell_type": "code",
   "execution_count": 4,
   "id": "6c6e2b6e-bc94-4465-a868-e913d22db21c",
   "metadata": {},
   "outputs": [],
   "source": [
    "df = (\n",
    "    spark.read.format(\"jdbc\")\n",
    "    .option(\"url\", PG_URL)\n",
    "    .option(\"dbtable\", f\"{PG_SCHEMA_IN}.{PG_TABLE_IN}\")  \n",
    "    .option(\"user\", PG_USER)\n",
    "    .option(\"password\", PG_PASS)\n",
    "    .option(\"driver\", \"org.postgresql.Driver\")\n",
    "    .option(\"partitionColumn\", \"id\")\n",
    "    .option(\"lowerBound\", \"1\")\n",
    "    .option(\"upperBound\", \"10000000\")\n",
    "    .option(\"numPartitions\", \"6\")\n",
    "    .option(\"fetchsize\", str(JDBC_FETCHSIZE))\n",
    "    .load()\n",
    ")"
   ]
  },
  {
   "cell_type": "code",
   "execution_count": 5,
   "id": "acca07e5-bab4-49f5-bf90-23292f931e55",
   "metadata": {},
   "outputs": [
    {
     "name": "stdout",
     "output_type": "stream",
     "text": [
      "+-------------------+----------+--------------+----------------+-------+----------------+-----------------+--------------------+----------------------+------------+-------------+-----------------+------+\n",
      "|               time|      date|sender_account|receiver_account| amount|payment_currency|received_currency|sender_bank_location|receiver_bank_location|payment_type|is_laundering|  laundering_type|    id|\n",
      "+-------------------+----------+--------------+----------------+-------+----------------+-----------------+--------------------+----------------------+------------+-------------+-----------------+------+\n",
      "|2025-10-13 15:04:29|2023-02-03|    6974085996|       504652662|5569.77|     Swiss franc|        UK pounds|                  UK|                    UK|  Debit card|            0|   Normal_Fan_Out|352178|\n",
      "|2025-10-13 22:43:06|2023-01-26|    1834030408|      8486490456|8540.22|       UK pounds|        UK pounds|                  UK|                    UK|      Cheque|            0|   Normal_Fan_Out|352179|\n",
      "|2025-10-13 22:51:05|2023-01-14|    2070481175|      5623596789|6443.55|    Turkish lira|        UK pounds|              Turkey|                    UK|Cross-border|            0|    Normal_Fan_In|352180|\n",
      "|2025-10-13 22:42:24|2023-01-24|     530440100|      8717754242|8469.78|       UK pounds|        UK pounds|                  UK|                    UK|         ACH|            0|Normal_Periodical|352181|\n",
      "|2025-10-13 18:47:47|2023-01-28|    8146620166|       400133392|5896.01|       UK pounds|        UK pounds|                  UK|                    UK|  Debit card|            0|    Normal_Fan_In|352182|\n",
      "+-------------------+----------+--------------+----------------+-------+----------------+-----------------+--------------------+----------------------+------------+-------------+-----------------+------+\n",
      "only showing top 5 rows\n",
      "root\n",
      " |-- time: timestamp (nullable = true)\n",
      " |-- date: date (nullable = true)\n",
      " |-- sender_account: long (nullable = true)\n",
      " |-- receiver_account: long (nullable = true)\n",
      " |-- amount: double (nullable = true)\n",
      " |-- payment_currency: string (nullable = true)\n",
      " |-- received_currency: string (nullable = true)\n",
      " |-- sender_bank_location: string (nullable = true)\n",
      " |-- receiver_bank_location: string (nullable = true)\n",
      " |-- payment_type: string (nullable = true)\n",
      " |-- is_laundering: integer (nullable = true)\n",
      " |-- laundering_type: string (nullable = true)\n",
      " |-- id: long (nullable = true)\n",
      "\n"
     ]
    }
   ],
   "source": [
    "df.show(5)\n",
    "df.printSchema()"
   ]
  },
  {
   "cell_type": "code",
   "execution_count": 6,
   "id": "a3d1b14d-81c3-4e7c-8849-f6c04b055f8a",
   "metadata": {},
   "outputs": [],
   "source": [
    "pairs = (\n",
    "    df.select(F.col(\"sender_account\").alias(\"account\"),\n",
    "              F.col(\"sender_bank_location\").alias(\"location\"))\n",
    "      .unionByName(\n",
    "          df.select(F.col(\"receiver_account\").alias(\"account\"),\n",
    "                    F.col(\"receiver_bank_location\").alias(\"location\"))\n",
    "      )\n",
    "      .filter(F.col(\"account\").isNotNull() & F.col(\"location\").isNotNull())\n",
    ")\n",
    "\n",
    "counts = pairs.groupBy(\"account\", \"location\").count()\n",
    "\n",
    "w = Window.partitionBy(\"account\").orderBy(F.col(\"count\").desc(), F.col(\"location\").asc())\n",
    "accounts = (\n",
    "    counts.withColumn(\"rn\", F.row_number().over(w))\n",
    "          .filter(F.col(\"rn\") == 1)\n",
    "          .select(\"account\", \"location\")\n",
    ")\n"
   ]
  },
  {
   "cell_type": "code",
   "execution_count": 7,
   "id": "b60981a2-6f6d-40cf-8bd6-418e650cfb89",
   "metadata": {},
   "outputs": [],
   "source": [
    "(accounts.write\n",
    " .format(\"jdbc\")\n",
    " .option(\"url\", PG_URL)\n",
    " .option(\"dbtable\", f\"{PG_SCHEMA_OUT}.{PG_TABLE_OUT1}\")\n",
    " .option(\"user\", PG_USER)\n",
    " .option(\"password\", PG_PASS)\n",
    " .option(\"driver\", \"org.postgresql.Driver\")\n",
    " .option(\"batchsize\", str(JDBC_BATCHSIZE))\n",
    " .option(\"truncate\", \"true\") \n",
    " .mode(\"overwrite\")  # o 'append'\n",
    " .save())\n"
   ]
  },
  {
   "cell_type": "code",
   "execution_count": 10,
   "id": "d4686747-96aa-4bb2-871d-471399936af6",
   "metadata": {},
   "outputs": [],
   "source": [
    "transfers = df.withColumn(\n",
    "    \"datetime\",\n",
    "    F.to_timestamp(\n",
    "        F.concat_ws(\" \", F.col(\"date\"), F.date_format(F.col(\"time\"), \"HH:mm:ss\")),\n",
    "        \"yyyy-MM-dd HH:mm:ss\"\n",
    "    )\n",
    ")\n",
    "\n",
    "# Selecciona solo columnas que vas a escribir y fuerza tipos JVM simples\n",
    "# (ajusta el listado a tus columnas verdaderas)\n",
    "cols_out = [\n",
    "    F.col(\"id\").cast(\"long\").alias(\"id\"),\n",
    "    F.col(\"datetime\").cast(\"timestamp\").alias(\"date_time\"),\n",
    "    F.col(\"sender_account\").cast(\"long\").alias(\"sender_account\"),\n",
    "    F.col(\"receiver_account\").cast(\"long\").alias(\"receiver_account\"),\n",
    "    F.col(\"amount\").cast(\"double\").alias(\"amount\"),\n",
    "    F.col(\"payment_currency\").cast(\"string\").alias(\"payment_currency\"),\n",
    "    F.col(\"received_currency\").cast(\"string\").alias(\"received_currency\"),\n",
    "    F.col(\"payment_type\").cast(\"string\").alias(\"payment_type\"),\n",
    "    F.col(\"is_laundering\").cast(\"integer\").alias(\"is_laundering\"),\n",
    "    F.col(\"laundering_type\").cast(\"string\").alias(\"laundering_type\")\n",
    "]\n",
    "transfers = transfers.select(*cols_out)\n",
    "\n",
    "# Materializa en JVM (evita recomputar nada de pandas)\n",
    "transfers = transfers.persist()\n",
    "_ = transfers.count()\n"
   ]
  },
  {
   "cell_type": "code",
   "execution_count": 11,
   "id": "bcd42cf9-af25-4b4b-ae23-05a59d749efb",
   "metadata": {},
   "outputs": [],
   "source": [
    "(transfers.write\n",
    " .format(\"jdbc\")\n",
    " .option(\"url\", PG_URL)\n",
    " .option(\"dbtable\", f\"{PG_SCHEMA_OUT}.{PG_TABLE_OUT2}\")\n",
    " .option(\"user\", PG_USER)\n",
    " .option(\"password\", PG_PASS)\n",
    " .option(\"driver\", \"org.postgresql.Driver\")\n",
    " .option(\"stringtype\", \"unspecified\")\n",
    " .option(\"batchsize\", str(JDBC_BATCHSIZE))\n",
    " #.option(\"truncate\", \"true\")\n",
    " .mode(\"overwrite\")\n",
    " .save())\n"
   ]
  },
  {
   "cell_type": "code",
   "execution_count": 17,
   "id": "45af7e5b-fca0-430d-a7bf-859424b33729",
   "metadata": {
    "scrolled": true
   },
   "outputs": [],
   "source": [
    "from sqlalchemy import create_engine, text\n",
    "from sqlalchemy.engine import URL\n",
    "\n",
    "connection_url = URL.create(\n",
    "    drivername='postgresql+psycopg2',\n",
    "    username=PG_USER,\n",
    "    password=PG_PASS,  \n",
    "    host='localhost',\n",
    "    port=5432,\n",
    "    database='graphs',\n",
    "    query={'sslmode': 'disable'},\n",
    ")\n",
    "engine = create_engine(connection_url)\n",
    "\n",
    "with engine.begin() as conn:\n",
    "    conn.execute(text(\n",
    "        f\"ALTER TABLE {PG_SCHEMA_OUT}.{PG_TABLE_OUT1} \"\n",
    "        f\"ADD CONSTRAINT {PG_SCHEMA_OUT}_{PG_TABLE_OUT1}_pkey PRIMARY KEY (account)\"\n",
    "    ))\n",
    "    conn.execute(text(\n",
    "        f\"ALTER TABLE {PG_SCHEMA_OUT}.{PG_TABLE_OUT2} \"\n",
    "        f\"ADD CONSTRAINT {PG_SCHEMA_OUT}_{PG_TABLE_OUT2}_pkey PRIMARY KEY (id)\"\n",
    "    ))"
   ]
  },
  {
   "cell_type": "code",
   "execution_count": null,
   "id": "9addfa85-c080-4c68-a6fe-debd2a4ceeac",
   "metadata": {},
   "outputs": [],
   "source": []
  }
 ],
 "metadata": {
  "kernelspec": {
   "display_name": "Python 3 (ipykernel)",
   "language": "python",
   "name": "python3"
  },
  "language_info": {
   "codemirror_mode": {
    "name": "ipython",
    "version": 3
   },
   "file_extension": ".py",
   "mimetype": "text/x-python",
   "name": "python",
   "nbconvert_exporter": "python",
   "pygments_lexer": "ipython3",
   "version": "3.10.6"
  }
 },
 "nbformat": 4,
 "nbformat_minor": 5
}
