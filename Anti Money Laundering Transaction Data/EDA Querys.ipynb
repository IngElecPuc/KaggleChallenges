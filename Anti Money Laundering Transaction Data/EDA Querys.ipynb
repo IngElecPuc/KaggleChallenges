{
 "cells": [
  {
   "cell_type": "code",
   "execution_count": 1,
   "id": "b1055502-8216-4a41-b35e-8d8025636800",
   "metadata": {},
   "outputs": [
    {
     "name": "stderr",
     "output_type": "stream",
     "text": [
      "E:\\Felpipe\\Trabajo\\Ciencias de datos en general\\KaggleChallenges\\venv\\lib\\site-packages\\pyspark\\pandas\\__init__.py:43: UserWarning: 'PYARROW_IGNORE_TIMEZONE' environment variable was not set. It is required to set this environment variable to '1' in both driver and executor sides if you use pyarrow>=2.0.0. pandas-on-Spark will set it for you but it does not work if there is a Spark context already launched.\n",
      "  warnings.warn(\n"
     ]
    }
   ],
   "source": [
    "from pyspark.sql import SparkSession\n",
    "from pyspark.sql import functions as F\n",
    "import pyspark.pandas as ps\n",
    "from py2neo import Graph\n",
    "import sys, os"
   ]
  },
  {
   "cell_type": "markdown",
   "id": "6284ea50-d7f2-4409-8c61-9cf1c62ab883",
   "metadata": {},
   "source": [
    "# Eda \"clásico\" (tabular)"
   ]
  },
  {
   "cell_type": "markdown",
   "id": "950b083a-259c-4b33-b65d-9a66f991a677",
   "metadata": {},
   "source": [
    "Este análisis es más fácil de realizar sobre PostgreSQL directamente. Así me puedo aprovechar de las ventajas de los DataFrames de Spark y su pacerido a Pandas."
   ]
  },
  {
   "cell_type": "code",
   "execution_count": 2,
   "id": "3893f966-7462-4dd6-9a89-879992232e13",
   "metadata": {},
   "outputs": [],
   "source": [
    "PG_URL  = 'jdbc:postgresql://localhost:5432/graphs'\n",
    "PG_USER = 'spark_ingest'\n",
    "PG_PASS = 'GYleZAI2pTBKJYl9W1PL'\n",
    "PG_SCHEMA = 'saml_d'\n",
    "PG_TABLE1 =  'accounts'\n",
    "PG_TABLE2 =  'transferences'\n",
    "JDBC_JAR = r\"C:\\spark\\spark-4.0.1-bin-hadoop3\\jars\\postgresql-42.7.4.jar\"  \n",
    "JDBC_BATCHSIZE = 10000\n",
    "JDBC_FETCHSIZE = 10000\n",
    "PYTHON = sys.executable  # python del kernel Jupyter"
   ]
  },
  {
   "cell_type": "code",
   "execution_count": 3,
   "id": "53e1b6e8-910c-488e-8a32-3ab81f5023e4",
   "metadata": {},
   "outputs": [],
   "source": [
    "spark = (\n",
    "    SparkSession.builder\n",
    "    .appName(\"ieee-fraud-jupyter\")\n",
    "    .config(\"spark.jars\", JDBC_JAR)\n",
    "    .config(\"spark.driver.extraClassPath\", JDBC_JAR)\n",
    "    .config(\"spark.executor.extraClassPath\", JDBC_JAR)\n",
    "    .config(\"spark.sql.ansi.enabled\", \"false\") #Para poder usar la API de pandas pues no soporta modo ansi\n",
    "    .config(\"spark.pyspark.driver.python\", PYTHON)\n",
    "    .config(\"spark.pyspark.python\", PYTHON)\n",
    "    .config(\"spark.executorEnv.PYSPARK_PYTHON\", PYTHON)\n",
    "    .config(\"spark.sql.execution.arrow.pyspark.enabled\", \"false\")\n",
    "    .config(\"spark.driver.bindAddress\", \"127.0.0.1\")\n",
    "    .config(\"spark.sql.execution.arrow.pyspark.enabled\", \"true\")  # Opcional: mejora performance\n",
    "    .getOrCreate()\n",
    ")"
   ]
  },
  {
   "cell_type": "code",
   "execution_count": 4,
   "id": "2ee3e358-9e7d-4eb7-a546-96fce4931a65",
   "metadata": {},
   "outputs": [],
   "source": [
    "accounts_df = (\n",
    "    spark.read.format(\"jdbc\")\n",
    "    .option(\"url\", PG_URL)\n",
    "    .option(\"dbtable\", f\"{PG_SCHEMA}.{PG_TABLE1}\")  \n",
    "    .option(\"user\", PG_USER)\n",
    "    .option(\"password\", PG_PASS)\n",
    "    .option(\"driver\", \"org.postgresql.Driver\")\n",
    "    .option(\"partitionColumn\", \"account\")\n",
    "    .option(\"lowerBound\", \"1\")\n",
    "    .option(\"upperBound\", \"10000000\")\n",
    "    .option(\"numPartitions\", \"2\")\n",
    "    .option(\"fetchsize\", str(JDBC_FETCHSIZE))\n",
    "    .load()\n",
    ")\n",
    "\n",
    "tx_df = (\n",
    "    spark.read.format(\"jdbc\")\n",
    "    .option(\"url\", PG_URL)\n",
    "    .option(\"dbtable\", f\"{PG_SCHEMA}.{PG_TABLE2}\")  \n",
    "    .option(\"user\", PG_USER)\n",
    "    .option(\"password\", PG_PASS)\n",
    "    .option(\"driver\", \"org.postgresql.Driver\")\n",
    "    .option(\"partitionColumn\", \"id\")\n",
    "    .option(\"lowerBound\", \"1\")\n",
    "    .option(\"upperBound\", \"10000000\")\n",
    "    .option(\"numPartitions\", \"6\")\n",
    "    .option(\"fetchsize\", str(JDBC_FETCHSIZE))\n",
    "    .load()\n",
    ")"
   ]
  },
  {
   "cell_type": "code",
   "execution_count": 5,
   "id": "996993f9-14b2-4a25-8546-99a05da6f087",
   "metadata": {},
   "outputs": [
    {
     "data": {
      "text/html": [
       "<div>\n",
       "<style scoped>\n",
       "    .dataframe tbody tr th:only-of-type {\n",
       "        vertical-align: middle;\n",
       "    }\n",
       "\n",
       "    .dataframe tbody tr th {\n",
       "        vertical-align: top;\n",
       "    }\n",
       "\n",
       "    .dataframe thead th {\n",
       "        text-align: right;\n",
       "    }\n",
       "</style>\n",
       "<table border=\"1\" class=\"dataframe\">\n",
       "  <thead>\n",
       "    <tr style=\"text-align: right;\">\n",
       "      <th></th>\n",
       "      <th>account</th>\n",
       "      <th>location</th>\n",
       "    </tr>\n",
       "  </thead>\n",
       "  <tbody>\n",
       "    <tr>\n",
       "      <th>0</th>\n",
       "      <td>153883</td>\n",
       "      <td>UK</td>\n",
       "    </tr>\n",
       "    <tr>\n",
       "      <th>1</th>\n",
       "      <td>155774</td>\n",
       "      <td>UK</td>\n",
       "    </tr>\n",
       "    <tr>\n",
       "      <th>2</th>\n",
       "      <td>285416</td>\n",
       "      <td>UK</td>\n",
       "    </tr>\n",
       "    <tr>\n",
       "      <th>3</th>\n",
       "      <td>348111</td>\n",
       "      <td>UK</td>\n",
       "    </tr>\n",
       "    <tr>\n",
       "      <th>4</th>\n",
       "      <td>438458</td>\n",
       "      <td>UK</td>\n",
       "    </tr>\n",
       "  </tbody>\n",
       "</table>\n",
       "</div>"
      ],
      "text/plain": [
       "   account location\n",
       "0   153883       UK\n",
       "1   155774       UK\n",
       "2   285416       UK\n",
       "3   348111       UK\n",
       "4   438458       UK"
      ]
     },
     "execution_count": 5,
     "metadata": {},
     "output_type": "execute_result"
    }
   ],
   "source": [
    "accounts_dfps = accounts_df.pandas_api()\n",
    "accounts_dfps.head()"
   ]
  },
  {
   "cell_type": "code",
   "execution_count": 6,
   "id": "f8afb998-df56-41c1-ba55-fd9be746fa83",
   "metadata": {},
   "outputs": [
    {
     "data": {
      "text/plain": [
       "855460"
      ]
     },
     "execution_count": 6,
     "metadata": {},
     "output_type": "execute_result"
    }
   ],
   "source": [
    "len(accounts_dfps)"
   ]
  },
  {
   "cell_type": "code",
   "execution_count": 12,
   "id": "30e4478a-f00a-4551-bd67-b9eff88cabab",
   "metadata": {},
   "outputs": [
    {
     "name": "stdout",
     "output_type": "stream",
     "text": [
      "+---------+\n",
      "|countries|\n",
      "+---------+\n",
      "|       18|\n",
      "+---------+\n",
      "\n"
     ]
    }
   ],
   "source": [
    "accounts_df.select(F.countDistinct(\"location\").alias(\"countries\")).show()"
   ]
  },
  {
   "cell_type": "code",
   "execution_count": 13,
   "id": "5b4bb399-a188-4a61-9a12-a02327bf828a",
   "metadata": {},
   "outputs": [
    {
     "name": "stdout",
     "output_type": "stream",
     "text": [
      "+-----------+------+\n",
      "|location   |count |\n",
      "+-----------+------+\n",
      "|UK         |803407|\n",
      "|Mexico     |3149  |\n",
      "|Nigeria    |3111  |\n",
      "|Pakistan   |3100  |\n",
      "|Japan      |3095  |\n",
      "|Albania    |3086  |\n",
      "|Turkey     |3072  |\n",
      "|Austria    |3072  |\n",
      "|Spain      |3066  |\n",
      "|India      |3057  |\n",
      "|USA        |3056  |\n",
      "|Switzerland|3053  |\n",
      "|Germany    |3051  |\n",
      "|UAE        |3042  |\n",
      "|France     |3038  |\n",
      "|Morocco    |3031  |\n",
      "|Netherlands|3006  |\n",
      "|Italy      |2968  |\n",
      "+-----------+------+\n",
      "\n"
     ]
    }
   ],
   "source": [
    "accounts_df.groupBy(\"location\").count().orderBy(F.desc(\"count\")).show(50, truncate=False)"
   ]
  },
  {
   "cell_type": "code",
   "execution_count": 7,
   "id": "d93d8cc4-d508-492e-897e-3e0f82b0c342",
   "metadata": {},
   "outputs": [
    {
     "data": {
      "text/html": [
       "<div>\n",
       "<style scoped>\n",
       "    .dataframe tbody tr th:only-of-type {\n",
       "        vertical-align: middle;\n",
       "    }\n",
       "\n",
       "    .dataframe tbody tr th {\n",
       "        vertical-align: top;\n",
       "    }\n",
       "\n",
       "    .dataframe thead th {\n",
       "        text-align: right;\n",
       "    }\n",
       "</style>\n",
       "<table border=\"1\" class=\"dataframe\">\n",
       "  <thead>\n",
       "    <tr style=\"text-align: right;\">\n",
       "      <th></th>\n",
       "      <th>id</th>\n",
       "      <th>date_time</th>\n",
       "      <th>sender_account</th>\n",
       "      <th>receiver_account</th>\n",
       "      <th>amount</th>\n",
       "      <th>payment_currency</th>\n",
       "      <th>received_currency</th>\n",
       "      <th>payment_type</th>\n",
       "      <th>is_laundering</th>\n",
       "      <th>laundering_type</th>\n",
       "    </tr>\n",
       "  </thead>\n",
       "  <tbody>\n",
       "    <tr>\n",
       "      <th>0</th>\n",
       "      <td>602593</td>\n",
       "      <td>2023-02-01 15:01:53</td>\n",
       "      <td>7082502620</td>\n",
       "      <td>6302972557</td>\n",
       "      <td>6562.01</td>\n",
       "      <td>UK pounds</td>\n",
       "      <td>UK pounds</td>\n",
       "      <td>Cheque</td>\n",
       "      <td>0</td>\n",
       "      <td>Normal_Fan_Out</td>\n",
       "    </tr>\n",
       "    <tr>\n",
       "      <th>1</th>\n",
       "      <td>602594</td>\n",
       "      <td>2023-01-18 22:24:34</td>\n",
       "      <td>8057793308</td>\n",
       "      <td>1673541858</td>\n",
       "      <td>5749.75</td>\n",
       "      <td>UK pounds</td>\n",
       "      <td>Turkish lira</td>\n",
       "      <td>Cross-border</td>\n",
       "      <td>0</td>\n",
       "      <td>Normal_Fan_Out</td>\n",
       "    </tr>\n",
       "    <tr>\n",
       "      <th>2</th>\n",
       "      <td>602595</td>\n",
       "      <td>2023-02-05 19:58:20</td>\n",
       "      <td>5503083535</td>\n",
       "      <td>4799127644</td>\n",
       "      <td>18818.16</td>\n",
       "      <td>UK pounds</td>\n",
       "      <td>UK pounds</td>\n",
       "      <td>Debit card</td>\n",
       "      <td>0</td>\n",
       "      <td>Normal_Fan_Out</td>\n",
       "    </tr>\n",
       "    <tr>\n",
       "      <th>3</th>\n",
       "      <td>602596</td>\n",
       "      <td>2023-01-12 15:45:39</td>\n",
       "      <td>7052742341</td>\n",
       "      <td>7803585900</td>\n",
       "      <td>260.18</td>\n",
       "      <td>UK pounds</td>\n",
       "      <td>UK pounds</td>\n",
       "      <td>Cash Deposit</td>\n",
       "      <td>0</td>\n",
       "      <td>Normal_Cash_Deposits</td>\n",
       "    </tr>\n",
       "    <tr>\n",
       "      <th>4</th>\n",
       "      <td>602597</td>\n",
       "      <td>2023-01-19 03:40:41</td>\n",
       "      <td>8842512829</td>\n",
       "      <td>4963113480</td>\n",
       "      <td>4705.96</td>\n",
       "      <td>UK pounds</td>\n",
       "      <td>UK pounds</td>\n",
       "      <td>Credit card</td>\n",
       "      <td>0</td>\n",
       "      <td>Normal_Fan_Out</td>\n",
       "    </tr>\n",
       "  </tbody>\n",
       "</table>\n",
       "</div>"
      ],
      "text/plain": [
       "       id           date_time  sender_account  receiver_account    amount payment_currency received_currency  payment_type  is_laundering       laundering_type\n",
       "0  602593 2023-02-01 15:01:53      7082502620        6302972557   6562.01        UK pounds         UK pounds        Cheque              0        Normal_Fan_Out\n",
       "1  602594 2023-01-18 22:24:34      8057793308        1673541858   5749.75        UK pounds      Turkish lira  Cross-border              0        Normal_Fan_Out\n",
       "2  602595 2023-02-05 19:58:20      5503083535        4799127644  18818.16        UK pounds         UK pounds    Debit card              0        Normal_Fan_Out\n",
       "3  602596 2023-01-12 15:45:39      7052742341        7803585900    260.18        UK pounds         UK pounds  Cash Deposit              0  Normal_Cash_Deposits\n",
       "4  602597 2023-01-19 03:40:41      8842512829        4963113480   4705.96        UK pounds         UK pounds   Credit card              0        Normal_Fan_Out"
      ]
     },
     "execution_count": 7,
     "metadata": {},
     "output_type": "execute_result"
    }
   ],
   "source": [
    "tx_dfps = tx_df.pandas_api()\n",
    "tx_dfps.head()"
   ]
  },
  {
   "cell_type": "code",
   "execution_count": 11,
   "id": "07f26437-3014-45c8-9cbc-0afadeabbc83",
   "metadata": {},
   "outputs": [
    {
     "name": "stdout",
     "output_type": "stream",
     "text": [
      "+-------+-----------------+--------------------+\n",
      "|summary|           amount|       is_laundering|\n",
      "+-------+-----------------+--------------------+\n",
      "|  count|          9504852|             9504852|\n",
      "|   mean|8762.967600927412|0.001038732638866...|\n",
      "| stddev|25614.95299959784|  0.0322126338963904|\n",
      "|    min|             3.73|                   0|\n",
      "|    25%|          2143.28|                   0|\n",
      "|    50%|          6112.78|                   0|\n",
      "|    75%|         10457.48|                   0|\n",
      "|    max|     1.26184984E7|                   1|\n",
      "+-------+-----------------+--------------------+\n",
      "\n"
     ]
    }
   ],
   "source": [
    "tx_df.select(\"amount\", \"is_laundering\").summary(\"count\",\"mean\",\"stddev\",\"min\",\"25%\",\"50%\",\"75%\",\"max\").show()"
   ]
  },
  {
   "cell_type": "code",
   "execution_count": 15,
   "id": "6b06ea9b-31f2-41b9-ac3d-f44847be4812",
   "metadata": {},
   "outputs": [
    {
     "name": "stdout",
     "output_type": "stream",
     "text": [
      "+--------------+-----+\n",
      "|sender_account|count|\n",
      "+--------------+-----+\n",
      "|4808614002    |754  |\n",
      "|2938210715    |753  |\n",
      "|5579295130    |751  |\n",
      "|3831533348    |749  |\n",
      "|2357599526    |749  |\n",
      "|798082205     |743  |\n",
      "|9810335545    |742  |\n",
      "|8600542721    |738  |\n",
      "|8913863501    |736  |\n",
      "|6408343900    |735  |\n",
      "|8063440965    |733  |\n",
      "|3748489503    |732  |\n",
      "|5435316010    |731  |\n",
      "|4724445469    |731  |\n",
      "|9824280342    |731  |\n",
      "|3747015869    |730  |\n",
      "|5782689214    |729  |\n",
      "|2041162165    |728  |\n",
      "|9416949366    |721  |\n",
      "|4109275762    |720  |\n",
      "|1424693007    |719  |\n",
      "|4728492996    |718  |\n",
      "|9544431251    |717  |\n",
      "|5460360634    |716  |\n",
      "|2646321715    |716  |\n",
      "|6006732709    |714  |\n",
      "|6162961822    |713  |\n",
      "|244442078     |713  |\n",
      "|3476506914    |712  |\n",
      "|4492659500    |712  |\n",
      "|6174306361    |712  |\n",
      "|6744599788    |712  |\n",
      "|8794766352    |711  |\n",
      "|1750168908    |711  |\n",
      "|4569841157    |710  |\n",
      "|324610061     |710  |\n",
      "|2806740273    |709  |\n",
      "|4924631375    |706  |\n",
      "|351184098     |705  |\n",
      "|403526894     |704  |\n",
      "|5893741140    |703  |\n",
      "|9301628280    |702  |\n",
      "|8192587178    |702  |\n",
      "|463973115     |701  |\n",
      "|1298080955    |701  |\n",
      "|1651824870    |700  |\n",
      "|1613951599    |699  |\n",
      "|8681517024    |697  |\n",
      "|6018648917    |697  |\n",
      "|2347129812    |696  |\n",
      "+--------------+-----+\n",
      "only showing top 50 rows\n"
     ]
    }
   ],
   "source": [
    "tx_df.groupBy(\"sender_account\").count().orderBy(F.desc(\"count\")).show(50, truncate=False)"
   ]
  },
  {
   "cell_type": "code",
   "execution_count": 16,
   "id": "741b3239-eea9-4cd7-b357-3b26b8944a25",
   "metadata": {},
   "outputs": [
    {
     "name": "stdout",
     "output_type": "stream",
     "text": [
      "+----------------+-----+\n",
      "|receiver_account|count|\n",
      "+----------------+-----+\n",
      "|8600542721      |751  |\n",
      "|2938210715      |745  |\n",
      "|5460360634      |740  |\n",
      "|5579295130      |739  |\n",
      "|4808614002      |737  |\n",
      "|4724445469      |736  |\n",
      "|9544431251      |734  |\n",
      "|4924631375      |734  |\n",
      "|3747015869      |734  |\n",
      "|9824280342      |732  |\n",
      "|2357599526      |732  |\n",
      "|6408343900      |730  |\n",
      "|3748489503      |729  |\n",
      "|6174306361      |728  |\n",
      "|5782689214      |727  |\n",
      "|4569841157      |727  |\n",
      "|9810335545      |725  |\n",
      "|1424693007      |725  |\n",
      "|9416949366      |722  |\n",
      "|3476506914      |719  |\n",
      "|8192587178      |718  |\n",
      "|1750168908      |716  |\n",
      "|6744599788      |716  |\n",
      "|6006732709      |715  |\n",
      "|8913863501      |715  |\n",
      "|8794766352      |710  |\n",
      "|351184098       |709  |\n",
      "|2041162165      |707  |\n",
      "|2806740273      |707  |\n",
      "|5435316010      |706  |\n",
      "|8063440965      |705  |\n",
      "|4728492996      |705  |\n",
      "|2646321715      |704  |\n",
      "|923174250       |703  |\n",
      "|361478571       |701  |\n",
      "|9285879778      |701  |\n",
      "|8197072010      |697  |\n",
      "|5793273539      |693  |\n",
      "|6162961822      |693  |\n",
      "|403526894       |692  |\n",
      "|3364376781      |689  |\n",
      "|4035439288      |689  |\n",
      "|2911269043      |686  |\n",
      "|8681517024      |686  |\n",
      "|6018648917      |686  |\n",
      "|3950352859      |685  |\n",
      "|3758118046      |685  |\n",
      "|3792752290      |685  |\n",
      "|324610061       |685  |\n",
      "|5824647314      |684  |\n",
      "+----------------+-----+\n",
      "only showing top 50 rows\n"
     ]
    }
   ],
   "source": [
    "tx_df.groupBy(\"receiver_account\").count().orderBy(F.desc(\"count\")).show(50, truncate=False)"
   ]
  },
  {
   "cell_type": "code",
   "execution_count": 17,
   "id": "f4c97248-f829-492e-b3e1-0fe27b60bdd6",
   "metadata": {},
   "outputs": [
    {
     "name": "stdout",
     "output_type": "stream",
     "text": [
      "+----------------+-------+\n",
      "|payment_currency|count  |\n",
      "+----------------+-------+\n",
      "|UK pounds       |9099293|\n",
      "|Euro            |117164 |\n",
      "|Turkish lira    |27996  |\n",
      "|Swiss franc     |27492  |\n",
      "|Dirham          |27263  |\n",
      "|Pakistani rupee |27196  |\n",
      "|Naira           |27143  |\n",
      "|US dollar       |26061  |\n",
      "|Yen             |25562  |\n",
      "|Moroccan dirham |25395  |\n",
      "|Mexican Peso    |24852  |\n",
      "|Albanian lek    |24778  |\n",
      "|Indian rupee    |24657  |\n",
      "+----------------+-------+\n",
      "\n"
     ]
    }
   ],
   "source": [
    "tx_df.groupBy(\"payment_currency\").count().orderBy(F.desc(\"count\")).show(50, truncate=False)"
   ]
  },
  {
   "cell_type": "code",
   "execution_count": 18,
   "id": "3ecc1a72-1b0a-4fea-9722-862267006e4a",
   "metadata": {},
   "outputs": [
    {
     "name": "stdout",
     "output_type": "stream",
     "text": [
      "+-----------------+-------+\n",
      "|received_currency|count  |\n",
      "+-----------------+-------+\n",
      "|UK pounds        |8783655|\n",
      "|Euro             |231911 |\n",
      "|Pakistani rupee  |45993  |\n",
      "|Yen              |45814  |\n",
      "|Moroccan dirham  |45748  |\n",
      "|Albanian lek     |45736  |\n",
      "|Mexican Peso     |45255  |\n",
      "|Naira            |45046  |\n",
      "|Indian rupee     |43757  |\n",
      "|US dollar        |43664  |\n",
      "|Swiss franc      |42931  |\n",
      "|Dirham           |42797  |\n",
      "|Turkish lira     |42545  |\n",
      "+-----------------+-------+\n",
      "\n"
     ]
    }
   ],
   "source": [
    "tx_df.groupBy(\"received_currency\").count().orderBy(F.desc(\"count\")).show(50, truncate=False)"
   ]
  },
  {
   "cell_type": "code",
   "execution_count": 19,
   "id": "83602fee-cc9b-455a-a9bc-f7865e208a2d",
   "metadata": {},
   "outputs": [
    {
     "name": "stdout",
     "output_type": "stream",
     "text": [
      "+---------------+-------+\n",
      "|payment_type   |count  |\n",
      "+---------------+-------+\n",
      "|Credit card    |2012909|\n",
      "|Debit card     |2012103|\n",
      "|Cheque         |2011419|\n",
      "|ACH            |2008807|\n",
      "|Cross-border   |933931 |\n",
      "|Cash Withdrawal|300477 |\n",
      "|Cash Deposit   |225206 |\n",
      "+---------------+-------+\n",
      "\n"
     ]
    }
   ],
   "source": [
    "tx_df.groupBy(\"payment_type\").count().orderBy(F.desc(\"count\")).show(50, truncate=False)"
   ]
  },
  {
   "cell_type": "code",
   "execution_count": 20,
   "id": "80480ab1-31ef-4e0b-acc0-738118cd6e82",
   "metadata": {},
   "outputs": [
    {
     "name": "stdout",
     "output_type": "stream",
     "text": [
      "+-------------+-------+\n",
      "|is_laundering|count  |\n",
      "+-------------+-------+\n",
      "|0            |9494979|\n",
      "|1            |9873   |\n",
      "+-------------+-------+\n",
      "\n"
     ]
    }
   ],
   "source": [
    "tx_df.groupBy(\"is_laundering\").count().orderBy(F.desc(\"count\")).show(50, truncate=False)"
   ]
  },
  {
   "cell_type": "code",
   "execution_count": 21,
   "id": "d9206ec9-ab02-4e44-8009-606adf1699d3",
   "metadata": {},
   "outputs": [
    {
     "name": "stdout",
     "output_type": "stream",
     "text": [
      "+----------------------+-------+\n",
      "|laundering_type       |count  |\n",
      "+----------------------+-------+\n",
      "|Normal_Small_Fan_Out  |3477717|\n",
      "|Normal_Fan_Out        |2302220|\n",
      "|Normal_Fan_In         |2104285|\n",
      "|Normal_Group          |528351 |\n",
      "|Normal_Cash_Withdrawal|305031 |\n",
      "|Normal_Cash_Deposits  |223801 |\n",
      "|Normal_Periodical     |210526 |\n",
      "|Normal_Plus_Mutual    |155041 |\n",
      "|Normal_Mutual         |125335 |\n",
      "|Normal_Foward         |42031  |\n",
      "|Normal_single_large   |20641  |\n",
      "|Structuring           |1870   |\n",
      "|Cash_Withdrawal       |1334   |\n",
      "|Deposit-Send          |945    |\n",
      "|Smurfing              |932    |\n",
      "|Layered_Fan_In        |656    |\n",
      "|Layered_Fan_Out       |529    |\n",
      "|Stacked Bipartite     |506    |\n",
      "|Behavioural_Change_1  |394    |\n",
      "|Bipartite             |383    |\n",
      "|Cycle                 |382    |\n",
      "|Fan_In                |364    |\n",
      "|Gather-Scatter        |354    |\n",
      "|Behavioural_Change_2  |345    |\n",
      "|Scatter-Gather        |338    |\n",
      "|Single_large          |250    |\n",
      "|Fan_Out               |237    |\n",
      "|Over-Invoicing        |54     |\n",
      "+----------------------+-------+\n",
      "\n"
     ]
    }
   ],
   "source": [
    "tx_df.groupBy(\"laundering_type\").count().orderBy(F.desc(\"count\")).show(50, truncate=False)"
   ]
  },
  {
   "cell_type": "code",
   "execution_count": null,
   "id": "008aa1ae-7163-40a6-9805-21f2ae5a3002",
   "metadata": {},
   "outputs": [],
   "source": []
  }
 ],
 "metadata": {
  "kernelspec": {
   "display_name": "Python 3 (ipykernel)",
   "language": "python",
   "name": "python3"
  },
  "language_info": {
   "codemirror_mode": {
    "name": "ipython",
    "version": 3
   },
   "file_extension": ".py",
   "mimetype": "text/x-python",
   "name": "python",
   "nbconvert_exporter": "python",
   "pygments_lexer": "ipython3",
   "version": "3.10.6"
  }
 },
 "nbformat": 4,
 "nbformat_minor": 5
}
