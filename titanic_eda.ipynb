{
 "cells": [
  {
   "cell_type": "code",
   "execution_count": 1,
   "id": "eee14000-5e54-4f0f-b616-a6051b72dc3a",
   "metadata": {},
   "outputs": [],
   "source": [
    "import pandas as pd\n",
    "import datetime as dp\n",
    "import numpy as np"
   ]
  },
  {
   "cell_type": "code",
   "execution_count": 2,
   "id": "2e674ca9-43f2-40cd-aa8d-636375f1ee3f",
   "metadata": {},
   "outputs": [],
   "source": [
    "dataset_path = 'E:/Datasets/titanic/raw dataset'"
   ]
  },
  {
   "cell_type": "code",
   "execution_count": 3,
   "id": "bccfe0b9-3af8-4c6c-af31-0d0b05763176",
   "metadata": {},
   "outputs": [],
   "source": [
    "train_raw = pd.read_csv(f'{dataset_path}/train.csv')\n",
    "test_raw = pd.read_csv(f'{dataset_path}/test.csv')"
   ]
  },
  {
   "cell_type": "markdown",
   "id": "b50ae1ed-bde3-46e0-b026-168f4c5dc904",
   "metadata": {},
   "source": [
    "# Summary"
   ]
  },
  {
   "cell_type": "code",
   "execution_count": 4,
   "id": "93db44b1-6c32-4abb-b05c-5f2d288f05a0",
   "metadata": {},
   "outputs": [
    {
     "data": {
      "text/html": [
       "<div>\n",
       "<style scoped>\n",
       "    .dataframe tbody tr th:only-of-type {\n",
       "        vertical-align: middle;\n",
       "    }\n",
       "\n",
       "    .dataframe tbody tr th {\n",
       "        vertical-align: top;\n",
       "    }\n",
       "\n",
       "    .dataframe thead th {\n",
       "        text-align: right;\n",
       "    }\n",
       "</style>\n",
       "<table border=\"1\" class=\"dataframe\">\n",
       "  <thead>\n",
       "    <tr style=\"text-align: right;\">\n",
       "      <th></th>\n",
       "      <th>PassengerId</th>\n",
       "      <th>Survived</th>\n",
       "      <th>Pclass</th>\n",
       "      <th>Name</th>\n",
       "      <th>Sex</th>\n",
       "      <th>Age</th>\n",
       "      <th>SibSp</th>\n",
       "      <th>Parch</th>\n",
       "      <th>Ticket</th>\n",
       "      <th>Fare</th>\n",
       "      <th>Cabin</th>\n",
       "      <th>Embarked</th>\n",
       "    </tr>\n",
       "  </thead>\n",
       "  <tbody>\n",
       "    <tr>\n",
       "      <th>0</th>\n",
       "      <td>1</td>\n",
       "      <td>0</td>\n",
       "      <td>3</td>\n",
       "      <td>Braund, Mr. Owen Harris</td>\n",
       "      <td>male</td>\n",
       "      <td>22.0</td>\n",
       "      <td>1</td>\n",
       "      <td>0</td>\n",
       "      <td>A/5 21171</td>\n",
       "      <td>7.2500</td>\n",
       "      <td>NaN</td>\n",
       "      <td>S</td>\n",
       "    </tr>\n",
       "    <tr>\n",
       "      <th>1</th>\n",
       "      <td>2</td>\n",
       "      <td>1</td>\n",
       "      <td>1</td>\n",
       "      <td>Cumings, Mrs. John Bradley (Florence Briggs Th...</td>\n",
       "      <td>female</td>\n",
       "      <td>38.0</td>\n",
       "      <td>1</td>\n",
       "      <td>0</td>\n",
       "      <td>PC 17599</td>\n",
       "      <td>71.2833</td>\n",
       "      <td>C85</td>\n",
       "      <td>C</td>\n",
       "    </tr>\n",
       "    <tr>\n",
       "      <th>2</th>\n",
       "      <td>3</td>\n",
       "      <td>1</td>\n",
       "      <td>3</td>\n",
       "      <td>Heikkinen, Miss. Laina</td>\n",
       "      <td>female</td>\n",
       "      <td>26.0</td>\n",
       "      <td>0</td>\n",
       "      <td>0</td>\n",
       "      <td>STON/O2. 3101282</td>\n",
       "      <td>7.9250</td>\n",
       "      <td>NaN</td>\n",
       "      <td>S</td>\n",
       "    </tr>\n",
       "    <tr>\n",
       "      <th>3</th>\n",
       "      <td>4</td>\n",
       "      <td>1</td>\n",
       "      <td>1</td>\n",
       "      <td>Futrelle, Mrs. Jacques Heath (Lily May Peel)</td>\n",
       "      <td>female</td>\n",
       "      <td>35.0</td>\n",
       "      <td>1</td>\n",
       "      <td>0</td>\n",
       "      <td>113803</td>\n",
       "      <td>53.1000</td>\n",
       "      <td>C123</td>\n",
       "      <td>S</td>\n",
       "    </tr>\n",
       "    <tr>\n",
       "      <th>4</th>\n",
       "      <td>5</td>\n",
       "      <td>0</td>\n",
       "      <td>3</td>\n",
       "      <td>Allen, Mr. William Henry</td>\n",
       "      <td>male</td>\n",
       "      <td>35.0</td>\n",
       "      <td>0</td>\n",
       "      <td>0</td>\n",
       "      <td>373450</td>\n",
       "      <td>8.0500</td>\n",
       "      <td>NaN</td>\n",
       "      <td>S</td>\n",
       "    </tr>\n",
       "  </tbody>\n",
       "</table>\n",
       "</div>"
      ],
      "text/plain": [
       "   PassengerId  Survived  Pclass  \\\n",
       "0            1         0       3   \n",
       "1            2         1       1   \n",
       "2            3         1       3   \n",
       "3            4         1       1   \n",
       "4            5         0       3   \n",
       "\n",
       "                                                Name     Sex   Age  SibSp  \\\n",
       "0                            Braund, Mr. Owen Harris    male  22.0      1   \n",
       "1  Cumings, Mrs. John Bradley (Florence Briggs Th...  female  38.0      1   \n",
       "2                             Heikkinen, Miss. Laina  female  26.0      0   \n",
       "3       Futrelle, Mrs. Jacques Heath (Lily May Peel)  female  35.0      1   \n",
       "4                           Allen, Mr. William Henry    male  35.0      0   \n",
       "\n",
       "   Parch            Ticket     Fare Cabin Embarked  \n",
       "0      0         A/5 21171   7.2500   NaN        S  \n",
       "1      0          PC 17599  71.2833   C85        C  \n",
       "2      0  STON/O2. 3101282   7.9250   NaN        S  \n",
       "3      0            113803  53.1000  C123        S  \n",
       "4      0            373450   8.0500   NaN        S  "
      ]
     },
     "execution_count": 4,
     "metadata": {},
     "output_type": "execute_result"
    }
   ],
   "source": [
    "train_raw.head()"
   ]
  },
  {
   "cell_type": "code",
   "execution_count": 5,
   "id": "d067fc6e-4a1f-454d-87ae-0645af406e5d",
   "metadata": {},
   "outputs": [
    {
     "name": "stdout",
     "output_type": "stream",
     "text": [
      "         column    dtype  n_nans  n_infs\n",
      "0   PassengerId    int64       0       0\n",
      "1      Survived    int64       0       0\n",
      "2        Pclass    int64       0       0\n",
      "3          Name   object       0       0\n",
      "4           Sex   object       0       0\n",
      "5           Age  float64     177       0\n",
      "6         SibSp    int64       0       0\n",
      "7         Parch    int64       0       0\n",
      "8        Ticket   object       0       0\n",
      "9          Fare  float64       0       0\n",
      "10        Cabin   object     687       0\n",
      "11     Embarked   object       2       0\n"
     ]
    }
   ],
   "source": [
    "def count_infs(series):\n",
    "    if pd.api.types.is_numeric_dtype(series):\n",
    "        return np.isinf(series).sum()\n",
    "    return 0\n",
    "\n",
    "summary = pd.DataFrame({\n",
    "    'dtype': train_raw.dtypes,\n",
    "    'n_nans': train_raw.isna().sum(),\n",
    "    'n_infs': train_raw.apply(count_infs)\n",
    "})\n",
    "summary.reset_index(inplace=True)\n",
    "summary.rename(columns={'index': 'column'}, inplace=True)\n",
    "print(summary)"
   ]
  },
  {
   "cell_type": "markdown",
   "id": "773d6d90-b588-4baf-bf0e-453606756344",
   "metadata": {},
   "source": [
    "Same for the test set"
   ]
  },
  {
   "cell_type": "code",
   "execution_count": 13,
   "id": "89385b80-f360-4469-81ea-1f44cfad1a82",
   "metadata": {},
   "outputs": [
    {
     "name": "stdout",
     "output_type": "stream",
     "text": [
      "         column    dtype  n_nans  n_infs\n",
      "0   PassengerId    int64       0       0\n",
      "1        Pclass    int64       0       0\n",
      "2          Name   object       0       0\n",
      "3           Sex   object       0       0\n",
      "4           Age  float64      86       0\n",
      "5         SibSp    int64       0       0\n",
      "6         Parch    int64       0       0\n",
      "7        Ticket   object       0       0\n",
      "8          Fare  float64       1       0\n",
      "9         Cabin   object     327       0\n",
      "10     Embarked   object       0       0\n"
     ]
    }
   ],
   "source": [
    "summary = pd.DataFrame({\n",
    "    'dtype': test_raw.dtypes,\n",
    "    'n_nans': test_raw.isna().sum(),\n",
    "    'n_infs': test_raw.apply(count_infs)\n",
    "})\n",
    "summary.reset_index(inplace=True)\n",
    "summary.rename(columns={'index': 'column'}, inplace=True)\n",
    "print(summary)"
   ]
  },
  {
   "cell_type": "code",
   "execution_count": 6,
   "id": "c07c91f9-c0d8-4906-af8c-9d7677d5ef37",
   "metadata": {},
   "outputs": [],
   "source": [
    "all_columns = train_raw.columns\n",
    "feature_names = all_columns[~np.isin(all_columns, ['PassengerId', 'Name'])] #All columns that will be used for prediction"
   ]
  },
  {
   "cell_type": "code",
   "execution_count": 7,
   "id": "f9d3dd59-2793-4b60-96fd-a10cb7a26c12",
   "metadata": {},
   "outputs": [
    {
     "data": {
      "text/html": [
       "<div>\n",
       "<style scoped>\n",
       "    .dataframe tbody tr th:only-of-type {\n",
       "        vertical-align: middle;\n",
       "    }\n",
       "\n",
       "    .dataframe tbody tr th {\n",
       "        vertical-align: top;\n",
       "    }\n",
       "\n",
       "    .dataframe thead th {\n",
       "        text-align: right;\n",
       "    }\n",
       "</style>\n",
       "<table border=\"1\" class=\"dataframe\">\n",
       "  <thead>\n",
       "    <tr style=\"text-align: right;\">\n",
       "      <th></th>\n",
       "      <th>Survived</th>\n",
       "      <th>Pclass</th>\n",
       "      <th>Age</th>\n",
       "      <th>SibSp</th>\n",
       "      <th>Parch</th>\n",
       "      <th>Fare</th>\n",
       "    </tr>\n",
       "  </thead>\n",
       "  <tbody>\n",
       "    <tr>\n",
       "      <th>count</th>\n",
       "      <td>891.000000</td>\n",
       "      <td>891.000000</td>\n",
       "      <td>714.000000</td>\n",
       "      <td>891.000000</td>\n",
       "      <td>891.000000</td>\n",
       "      <td>891.000000</td>\n",
       "    </tr>\n",
       "    <tr>\n",
       "      <th>mean</th>\n",
       "      <td>0.383838</td>\n",
       "      <td>2.308642</td>\n",
       "      <td>29.699118</td>\n",
       "      <td>0.523008</td>\n",
       "      <td>0.381594</td>\n",
       "      <td>32.204208</td>\n",
       "    </tr>\n",
       "    <tr>\n",
       "      <th>std</th>\n",
       "      <td>0.486592</td>\n",
       "      <td>0.836071</td>\n",
       "      <td>14.526497</td>\n",
       "      <td>1.102743</td>\n",
       "      <td>0.806057</td>\n",
       "      <td>49.693429</td>\n",
       "    </tr>\n",
       "    <tr>\n",
       "      <th>min</th>\n",
       "      <td>0.000000</td>\n",
       "      <td>1.000000</td>\n",
       "      <td>0.420000</td>\n",
       "      <td>0.000000</td>\n",
       "      <td>0.000000</td>\n",
       "      <td>0.000000</td>\n",
       "    </tr>\n",
       "    <tr>\n",
       "      <th>25%</th>\n",
       "      <td>0.000000</td>\n",
       "      <td>2.000000</td>\n",
       "      <td>20.125000</td>\n",
       "      <td>0.000000</td>\n",
       "      <td>0.000000</td>\n",
       "      <td>7.910400</td>\n",
       "    </tr>\n",
       "    <tr>\n",
       "      <th>50%</th>\n",
       "      <td>0.000000</td>\n",
       "      <td>3.000000</td>\n",
       "      <td>28.000000</td>\n",
       "      <td>0.000000</td>\n",
       "      <td>0.000000</td>\n",
       "      <td>14.454200</td>\n",
       "    </tr>\n",
       "    <tr>\n",
       "      <th>75%</th>\n",
       "      <td>1.000000</td>\n",
       "      <td>3.000000</td>\n",
       "      <td>38.000000</td>\n",
       "      <td>1.000000</td>\n",
       "      <td>0.000000</td>\n",
       "      <td>31.000000</td>\n",
       "    </tr>\n",
       "    <tr>\n",
       "      <th>max</th>\n",
       "      <td>1.000000</td>\n",
       "      <td>3.000000</td>\n",
       "      <td>80.000000</td>\n",
       "      <td>8.000000</td>\n",
       "      <td>6.000000</td>\n",
       "      <td>512.329200</td>\n",
       "    </tr>\n",
       "  </tbody>\n",
       "</table>\n",
       "</div>"
      ],
      "text/plain": [
       "         Survived      Pclass         Age       SibSp       Parch        Fare\n",
       "count  891.000000  891.000000  714.000000  891.000000  891.000000  891.000000\n",
       "mean     0.383838    2.308642   29.699118    0.523008    0.381594   32.204208\n",
       "std      0.486592    0.836071   14.526497    1.102743    0.806057   49.693429\n",
       "min      0.000000    1.000000    0.420000    0.000000    0.000000    0.000000\n",
       "25%      0.000000    2.000000   20.125000    0.000000    0.000000    7.910400\n",
       "50%      0.000000    3.000000   28.000000    0.000000    0.000000   14.454200\n",
       "75%      1.000000    3.000000   38.000000    1.000000    0.000000   31.000000\n",
       "max      1.000000    3.000000   80.000000    8.000000    6.000000  512.329200"
      ]
     },
     "execution_count": 7,
     "metadata": {},
     "output_type": "execute_result"
    }
   ],
   "source": [
    "#Numerical data\n",
    "numerical_cols = train_raw[feature_names].describe().columns\n",
    "train_raw[feature_names].describe()  "
   ]
  },
  {
   "cell_type": "code",
   "execution_count": 8,
   "id": "252e32e8-14d8-48bb-8914-a8a6c19754aa",
   "metadata": {},
   "outputs": [
    {
     "data": {
      "text/html": [
       "<div>\n",
       "<style scoped>\n",
       "    .dataframe tbody tr th:only-of-type {\n",
       "        vertical-align: middle;\n",
       "    }\n",
       "\n",
       "    .dataframe tbody tr th {\n",
       "        vertical-align: top;\n",
       "    }\n",
       "\n",
       "    .dataframe thead th {\n",
       "        text-align: right;\n",
       "    }\n",
       "</style>\n",
       "<table border=\"1\" class=\"dataframe\">\n",
       "  <thead>\n",
       "    <tr style=\"text-align: right;\">\n",
       "      <th></th>\n",
       "      <th>Sex</th>\n",
       "      <th>Ticket</th>\n",
       "      <th>Cabin</th>\n",
       "      <th>Embarked</th>\n",
       "    </tr>\n",
       "  </thead>\n",
       "  <tbody>\n",
       "    <tr>\n",
       "      <th>count</th>\n",
       "      <td>891</td>\n",
       "      <td>891</td>\n",
       "      <td>204</td>\n",
       "      <td>889</td>\n",
       "    </tr>\n",
       "    <tr>\n",
       "      <th>unique</th>\n",
       "      <td>2</td>\n",
       "      <td>681</td>\n",
       "      <td>147</td>\n",
       "      <td>3</td>\n",
       "    </tr>\n",
       "    <tr>\n",
       "      <th>top</th>\n",
       "      <td>male</td>\n",
       "      <td>347082</td>\n",
       "      <td>G6</td>\n",
       "      <td>S</td>\n",
       "    </tr>\n",
       "    <tr>\n",
       "      <th>freq</th>\n",
       "      <td>577</td>\n",
       "      <td>7</td>\n",
       "      <td>4</td>\n",
       "      <td>644</td>\n",
       "    </tr>\n",
       "  </tbody>\n",
       "</table>\n",
       "</div>"
      ],
      "text/plain": [
       "         Sex  Ticket Cabin Embarked\n",
       "count    891     891   204      889\n",
       "unique     2     681   147        3\n",
       "top     male  347082    G6        S\n",
       "freq     577       7     4      644"
      ]
     },
     "execution_count": 8,
     "metadata": {},
     "output_type": "execute_result"
    }
   ],
   "source": [
    "#Categorical data\n",
    "categorical_cols = train_raw[feature_names].describe().columns\n",
    "train_raw[feature_names].describe(include='object')  "
   ]
  },
  {
   "cell_type": "code",
   "execution_count": 34,
   "id": "87899992-a0e5-4489-824d-9f61d0dfc2a3",
   "metadata": {},
   "outputs": [
    {
     "data": {
      "text/plain": [
       "np.int64(0)"
      ]
     },
     "execution_count": 34,
     "metadata": {},
     "output_type": "execute_result"
    }
   ],
   "source": [
    "train_raw.duplicated().sum()"
   ]
  },
  {
   "cell_type": "code",
   "execution_count": 35,
   "id": "15301b69-18f6-478d-be4d-716d641ab1fd",
   "metadata": {},
   "outputs": [
    {
     "data": {
      "text/plain": [
       "np.int64(0)"
      ]
     },
     "execution_count": 35,
     "metadata": {},
     "output_type": "execute_result"
    }
   ],
   "source": [
    "test_raw.duplicated().sum()"
   ]
  },
  {
   "cell_type": "markdown",
   "id": "9c6a611e-636e-489d-bf00-4654a6187648",
   "metadata": {},
   "source": [
    "No duplicated values"
   ]
  },
  {
   "cell_type": "markdown",
   "id": "c5cc5ce6-f151-4bb5-bd6e-d634d12edb74",
   "metadata": {},
   "source": [
    "# Preprocessing"
   ]
  },
  {
   "cell_type": "markdown",
   "id": "69f4833e-fec2-4447-9662-261b753afb84",
   "metadata": {},
   "source": [
    "I'll start wrangling the dataset a little bit.\n",
    "Lets map the sex column to a numerical value:"
   ]
  },
  {
   "cell_type": "code",
   "execution_count": 24,
   "id": "7156f113-96af-4263-a7dd-2b631e792bf8",
   "metadata": {},
   "outputs": [],
   "source": [
    "train_w = train_raw.copy()\n",
    "test_w = test_raw.copy()\n",
    "train_w['Sex'] = train_w['Sex'].map({'male': 0, 'female': 1})\n",
    "test_w['Sex'] = test_w['Sex'].map({'male': 0, 'female': 1})"
   ]
  },
  {
   "cell_type": "markdown",
   "id": "013888c9-8643-4905-9247-c475f52d75ed",
   "metadata": {},
   "source": [
    "There are three columns with missing data. I could simply drop the two rows for the embarked column, it wont do much difference."
   ]
  },
  {
   "cell_type": "code",
   "execution_count": 25,
   "id": "107a2a8a-84f8-41f8-a797-1f95f55e29ae",
   "metadata": {},
   "outputs": [],
   "source": [
    "train_w = train_w.dropna(subset=['Embarked'])"
   ]
  },
  {
   "cell_type": "code",
   "execution_count": 26,
   "id": "eecf84a7-930e-4886-8126-6ceed475bad4",
   "metadata": {},
   "outputs": [],
   "source": [
    "train_w.loc[:, 'Cabin'] = train_w['Cabin'].fillna('unknown')\n",
    "test_w.loc[:, 'Cabin'] = test_w['Cabin'].fillna('unknown')"
   ]
  },
  {
   "cell_type": "markdown",
   "id": "c37ef752-f863-4e01-b327-b2854842f0b5",
   "metadata": {},
   "source": [
    "The age column has a lot of nans, and I don't know how could this be afecting."
   ]
  },
  {
   "cell_type": "code",
   "execution_count": 27,
   "id": "8b09fd21-6666-4295-ba38-341eee88ff7b",
   "metadata": {},
   "outputs": [
    {
     "name": "stdout",
     "output_type": "stream",
     "text": [
      "          Survived    Pclass       Age     SibSp     Parch      Fare\n",
      "Survived  1.000000 -0.335549 -0.082446 -0.034040  0.083151  0.255290\n",
      "Pclass   -0.335549  1.000000 -0.365902  0.081656  0.016824 -0.548193\n",
      "Age      -0.082446 -0.365902  1.000000 -0.307351 -0.187896  0.093143\n",
      "SibSp    -0.034040  0.081656 -0.307351  1.000000  0.414542  0.160887\n",
      "Parch     0.083151  0.016824 -0.187896  0.414542  1.000000  0.217532\n",
      "Fare      0.255290 -0.548193  0.093143  0.160887  0.217532  1.000000\n"
     ]
    }
   ],
   "source": [
    "print(train_w[numerical_cols].corr())"
   ]
  },
  {
   "cell_type": "markdown",
   "id": "2d29d0a1-bc74-465d-a2ff-c779d9acec8e",
   "metadata": {},
   "source": [
    "I am going to impute missing values by training a small RandomForest predictor"
   ]
  },
  {
   "cell_type": "code",
   "execution_count": 28,
   "id": "2b08b890-fdd4-482a-8c87-0adf3a516f22",
   "metadata": {},
   "outputs": [],
   "source": [
    "from sklearn.ensemble import RandomForestRegressor\n",
    "features = ['Pclass', 'SibSp', 'Parch', 'Fare', 'Sex'] #Even if fare has a small correlation could be helpfull\n",
    "\n",
    "train_age = train_w[train_w['Age'].notna()].copy()\n",
    "test_age = train_w[train_w['Age'].isna()].copy()\n",
    "\n",
    "X_train = train_age[features]\n",
    "y_train = train_age['Age']\n",
    "X_test = test_age[features]\n",
    "\n",
    "model = RandomForestRegressor(n_estimators=100, random_state=42)\n",
    "model.fit(X_train, y_train)\n",
    "\n",
    "predicted_ages = model.predict(X_test) #Predict missing values\n",
    "\n",
    "train_w.loc[train_w['Age'].isna(), 'Age'] = predicted_ages #Fill the dataset, imputing the data"
   ]
  },
  {
   "cell_type": "code",
   "execution_count": 29,
   "id": "200bf57b-b5d3-4c38-8f35-8daf8f15b9dd",
   "metadata": {},
   "outputs": [],
   "source": [
    "#And I repeat for the test set, using the same predictor\n",
    "pred_age = test_w[test_w['Age'].isna()].copy()\n",
    "X_pred = pred_age[features]\n",
    "\n",
    "predicted_ages = model.predict(X_pred)\n",
    "\n",
    "test_w.loc[test_w['Age'].isna(), 'Age'] = predicted_ages"
   ]
  },
  {
   "cell_type": "code",
   "execution_count": 33,
   "id": "f7bc5503-e9be-4792-93c0-434a4693f8df",
   "metadata": {},
   "outputs": [],
   "source": [
    "#And finally I won get myself preocupied for the only one NaN fare value, i'll replace it with the mean \n",
    "test_w.loc[test_w['Fare'].isna(), 'Fare'] = 32.204208"
   ]
  },
  {
   "cell_type": "markdown",
   "id": "0e39cde0-9385-426a-a130-171f4439ae92",
   "metadata": {},
   "source": [
    "# Univariate analysis"
   ]
  },
  {
   "cell_type": "code",
   "execution_count": null,
   "id": "dc6fb847-8270-48bd-818d-f6a0da5cc093",
   "metadata": {},
   "outputs": [],
   "source": []
  }
 ],
 "metadata": {
  "kernelspec": {
   "display_name": "Python 3 (ipykernel)",
   "language": "python",
   "name": "python3"
  },
  "language_info": {
   "codemirror_mode": {
    "name": "ipython",
    "version": 3
   },
   "file_extension": ".py",
   "mimetype": "text/x-python",
   "name": "python",
   "nbconvert_exporter": "python",
   "pygments_lexer": "ipython3",
   "version": "3.10.6"
  }
 },
 "nbformat": 4,
 "nbformat_minor": 5
}
