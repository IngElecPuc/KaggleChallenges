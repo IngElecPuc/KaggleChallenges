{
 "cells": [
  {
   "cell_type": "code",
   "execution_count": 100,
   "id": "eee14000-5e54-4f0f-b616-a6051b72dc3a",
   "metadata": {},
   "outputs": [],
   "source": [
    "import pandas as pd\n",
    "import datetime as dp\n",
    "import numpy as np\n",
    "from sklearn.ensemble import RandomForestRegressor\n",
    "import seaborn as sns\n",
    "import matplotlib.pyplot as plt\n",
    "from scipy.stats import chi2_contingency\n",
    "from prettytable import PrettyTable"
   ]
  },
  {
   "cell_type": "code",
   "execution_count": 2,
   "id": "2e674ca9-43f2-40cd-aa8d-636375f1ee3f",
   "metadata": {},
   "outputs": [],
   "source": [
    "dataset_path = 'E:/Datasets/titanic/raw dataset'"
   ]
  },
  {
   "cell_type": "code",
   "execution_count": 3,
   "id": "bccfe0b9-3af8-4c6c-af31-0d0b05763176",
   "metadata": {},
   "outputs": [],
   "source": [
    "train_raw = pd.read_csv(f'{dataset_path}/train.csv')\n",
    "test_raw = pd.read_csv(f'{dataset_path}/test.csv')"
   ]
  },
  {
   "cell_type": "markdown",
   "id": "b50ae1ed-bde3-46e0-b026-168f4c5dc904",
   "metadata": {},
   "source": [
    "# Summary"
   ]
  },
  {
   "cell_type": "code",
   "execution_count": 4,
   "id": "93db44b1-6c32-4abb-b05c-5f2d288f05a0",
   "metadata": {},
   "outputs": [
    {
     "data": {
      "text/html": [
       "<div>\n",
       "<style scoped>\n",
       "    .dataframe tbody tr th:only-of-type {\n",
       "        vertical-align: middle;\n",
       "    }\n",
       "\n",
       "    .dataframe tbody tr th {\n",
       "        vertical-align: top;\n",
       "    }\n",
       "\n",
       "    .dataframe thead th {\n",
       "        text-align: right;\n",
       "    }\n",
       "</style>\n",
       "<table border=\"1\" class=\"dataframe\">\n",
       "  <thead>\n",
       "    <tr style=\"text-align: right;\">\n",
       "      <th></th>\n",
       "      <th>PassengerId</th>\n",
       "      <th>Survived</th>\n",
       "      <th>Pclass</th>\n",
       "      <th>Name</th>\n",
       "      <th>Sex</th>\n",
       "      <th>Age</th>\n",
       "      <th>SibSp</th>\n",
       "      <th>Parch</th>\n",
       "      <th>Ticket</th>\n",
       "      <th>Fare</th>\n",
       "      <th>Cabin</th>\n",
       "      <th>Embarked</th>\n",
       "    </tr>\n",
       "  </thead>\n",
       "  <tbody>\n",
       "    <tr>\n",
       "      <th>0</th>\n",
       "      <td>1</td>\n",
       "      <td>0</td>\n",
       "      <td>3</td>\n",
       "      <td>Braund, Mr. Owen Harris</td>\n",
       "      <td>male</td>\n",
       "      <td>22.0</td>\n",
       "      <td>1</td>\n",
       "      <td>0</td>\n",
       "      <td>A/5 21171</td>\n",
       "      <td>7.2500</td>\n",
       "      <td>NaN</td>\n",
       "      <td>S</td>\n",
       "    </tr>\n",
       "    <tr>\n",
       "      <th>1</th>\n",
       "      <td>2</td>\n",
       "      <td>1</td>\n",
       "      <td>1</td>\n",
       "      <td>Cumings, Mrs. John Bradley (Florence Briggs Th...</td>\n",
       "      <td>female</td>\n",
       "      <td>38.0</td>\n",
       "      <td>1</td>\n",
       "      <td>0</td>\n",
       "      <td>PC 17599</td>\n",
       "      <td>71.2833</td>\n",
       "      <td>C85</td>\n",
       "      <td>C</td>\n",
       "    </tr>\n",
       "    <tr>\n",
       "      <th>2</th>\n",
       "      <td>3</td>\n",
       "      <td>1</td>\n",
       "      <td>3</td>\n",
       "      <td>Heikkinen, Miss. Laina</td>\n",
       "      <td>female</td>\n",
       "      <td>26.0</td>\n",
       "      <td>0</td>\n",
       "      <td>0</td>\n",
       "      <td>STON/O2. 3101282</td>\n",
       "      <td>7.9250</td>\n",
       "      <td>NaN</td>\n",
       "      <td>S</td>\n",
       "    </tr>\n",
       "    <tr>\n",
       "      <th>3</th>\n",
       "      <td>4</td>\n",
       "      <td>1</td>\n",
       "      <td>1</td>\n",
       "      <td>Futrelle, Mrs. Jacques Heath (Lily May Peel)</td>\n",
       "      <td>female</td>\n",
       "      <td>35.0</td>\n",
       "      <td>1</td>\n",
       "      <td>0</td>\n",
       "      <td>113803</td>\n",
       "      <td>53.1000</td>\n",
       "      <td>C123</td>\n",
       "      <td>S</td>\n",
       "    </tr>\n",
       "    <tr>\n",
       "      <th>4</th>\n",
       "      <td>5</td>\n",
       "      <td>0</td>\n",
       "      <td>3</td>\n",
       "      <td>Allen, Mr. William Henry</td>\n",
       "      <td>male</td>\n",
       "      <td>35.0</td>\n",
       "      <td>0</td>\n",
       "      <td>0</td>\n",
       "      <td>373450</td>\n",
       "      <td>8.0500</td>\n",
       "      <td>NaN</td>\n",
       "      <td>S</td>\n",
       "    </tr>\n",
       "  </tbody>\n",
       "</table>\n",
       "</div>"
      ],
      "text/plain": [
       "   PassengerId  Survived  Pclass  \\\n",
       "0            1         0       3   \n",
       "1            2         1       1   \n",
       "2            3         1       3   \n",
       "3            4         1       1   \n",
       "4            5         0       3   \n",
       "\n",
       "                                                Name     Sex   Age  SibSp  \\\n",
       "0                            Braund, Mr. Owen Harris    male  22.0      1   \n",
       "1  Cumings, Mrs. John Bradley (Florence Briggs Th...  female  38.0      1   \n",
       "2                             Heikkinen, Miss. Laina  female  26.0      0   \n",
       "3       Futrelle, Mrs. Jacques Heath (Lily May Peel)  female  35.0      1   \n",
       "4                           Allen, Mr. William Henry    male  35.0      0   \n",
       "\n",
       "   Parch            Ticket     Fare Cabin Embarked  \n",
       "0      0         A/5 21171   7.2500   NaN        S  \n",
       "1      0          PC 17599  71.2833   C85        C  \n",
       "2      0  STON/O2. 3101282   7.9250   NaN        S  \n",
       "3      0            113803  53.1000  C123        S  \n",
       "4      0            373450   8.0500   NaN        S  "
      ]
     },
     "execution_count": 4,
     "metadata": {},
     "output_type": "execute_result"
    }
   ],
   "source": [
    "train_raw.head()"
   ]
  },
  {
   "cell_type": "code",
   "execution_count": 5,
   "id": "d067fc6e-4a1f-454d-87ae-0645af406e5d",
   "metadata": {},
   "outputs": [
    {
     "name": "stdout",
     "output_type": "stream",
     "text": [
      "         column    dtype  n_nans  n_infs\n",
      "0   PassengerId    int64       0       0\n",
      "1      Survived    int64       0       0\n",
      "2        Pclass    int64       0       0\n",
      "3          Name   object       0       0\n",
      "4           Sex   object       0       0\n",
      "5           Age  float64     177       0\n",
      "6         SibSp    int64       0       0\n",
      "7         Parch    int64       0       0\n",
      "8        Ticket   object       0       0\n",
      "9          Fare  float64       0       0\n",
      "10        Cabin   object     687       0\n",
      "11     Embarked   object       2       0\n"
     ]
    }
   ],
   "source": [
    "def count_infs(series):\n",
    "    if pd.api.types.is_numeric_dtype(series):\n",
    "        return np.isinf(series).sum()\n",
    "    return 0\n",
    "\n",
    "summary = pd.DataFrame({\n",
    "    'dtype': train_raw.dtypes,\n",
    "    'n_nans': train_raw.isna().sum(),\n",
    "    'n_infs': train_raw.apply(count_infs)\n",
    "})\n",
    "summary.reset_index(inplace=True)\n",
    "summary.rename(columns={'index': 'column'}, inplace=True)\n",
    "print(summary)"
   ]
  },
  {
   "cell_type": "markdown",
   "id": "773d6d90-b588-4baf-bf0e-453606756344",
   "metadata": {},
   "source": [
    "Same for the test set"
   ]
  },
  {
   "cell_type": "code",
   "execution_count": 13,
   "id": "89385b80-f360-4469-81ea-1f44cfad1a82",
   "metadata": {},
   "outputs": [
    {
     "name": "stdout",
     "output_type": "stream",
     "text": [
      "         column    dtype  n_nans  n_infs\n",
      "0   PassengerId    int64       0       0\n",
      "1        Pclass    int64       0       0\n",
      "2          Name   object       0       0\n",
      "3           Sex   object       0       0\n",
      "4           Age  float64      86       0\n",
      "5         SibSp    int64       0       0\n",
      "6         Parch    int64       0       0\n",
      "7        Ticket   object       0       0\n",
      "8          Fare  float64       1       0\n",
      "9         Cabin   object     327       0\n",
      "10     Embarked   object       0       0\n"
     ]
    }
   ],
   "source": [
    "summary = pd.DataFrame({\n",
    "    'dtype': test_raw.dtypes,\n",
    "    'n_nans': test_raw.isna().sum(),\n",
    "    'n_infs': test_raw.apply(count_infs)\n",
    "})\n",
    "summary.reset_index(inplace=True)\n",
    "summary.rename(columns={'index': 'column'}, inplace=True)\n",
    "print(summary)"
   ]
  },
  {
   "cell_type": "code",
   "execution_count": 37,
   "id": "c07c91f9-c0d8-4906-af8c-9d7677d5ef37",
   "metadata": {},
   "outputs": [],
   "source": [
    "all_columns = train_raw.columns\n",
    "feature_names = all_columns[~np.isin(all_columns, ['Survived', 'PassengerId', 'Name'])] #All columns that will be used for prediction"
   ]
  },
  {
   "cell_type": "code",
   "execution_count": 34,
   "id": "87899992-a0e5-4489-824d-9f61d0dfc2a3",
   "metadata": {},
   "outputs": [
    {
     "data": {
      "text/plain": [
       "np.int64(0)"
      ]
     },
     "execution_count": 34,
     "metadata": {},
     "output_type": "execute_result"
    }
   ],
   "source": [
    "train_raw.duplicated().sum()"
   ]
  },
  {
   "cell_type": "code",
   "execution_count": 35,
   "id": "15301b69-18f6-478d-be4d-716d641ab1fd",
   "metadata": {},
   "outputs": [
    {
     "data": {
      "text/plain": [
       "np.int64(0)"
      ]
     },
     "execution_count": 35,
     "metadata": {},
     "output_type": "execute_result"
    }
   ],
   "source": [
    "test_raw.duplicated().sum()"
   ]
  },
  {
   "cell_type": "markdown",
   "id": "9c6a611e-636e-489d-bf00-4654a6187648",
   "metadata": {},
   "source": [
    "No duplicated values"
   ]
  },
  {
   "cell_type": "markdown",
   "id": "c5cc5ce6-f151-4bb5-bd6e-d634d12edb74",
   "metadata": {},
   "source": [
    "# Wrangling"
   ]
  },
  {
   "cell_type": "markdown",
   "id": "69f4833e-fec2-4447-9662-261b753afb84",
   "metadata": {},
   "source": [
    "I'll start wrangling the dataset a little bit.\n",
    "Lets map the sex column to a numerical value:"
   ]
  },
  {
   "cell_type": "code",
   "execution_count": 24,
   "id": "7156f113-96af-4263-a7dd-2b631e792bf8",
   "metadata": {},
   "outputs": [],
   "source": [
    "train_w = train_raw.copy()\n",
    "test_w = test_raw.copy()\n",
    "train_w['Sex'] = train_w['Sex'].map({'male': 0, 'female': 1})\n",
    "test_w['Sex'] = test_w['Sex'].map({'male': 0, 'female': 1})"
   ]
  },
  {
   "cell_type": "markdown",
   "id": "013888c9-8643-4905-9247-c475f52d75ed",
   "metadata": {},
   "source": [
    "There are three columns with missing data. I could simply drop the two rows for the embarked column, it wont do much difference."
   ]
  },
  {
   "cell_type": "code",
   "execution_count": 25,
   "id": "107a2a8a-84f8-41f8-a797-1f95f55e29ae",
   "metadata": {},
   "outputs": [],
   "source": [
    "train_w = train_w.dropna(subset=['Embarked'])"
   ]
  },
  {
   "cell_type": "code",
   "execution_count": 26,
   "id": "eecf84a7-930e-4886-8126-6ceed475bad4",
   "metadata": {},
   "outputs": [],
   "source": [
    "train_w.loc[:, 'Cabin'] = train_w['Cabin'].fillna('unknown')\n",
    "test_w.loc[:, 'Cabin'] = test_w['Cabin'].fillna('unknown')"
   ]
  },
  {
   "cell_type": "markdown",
   "id": "c37ef752-f863-4e01-b327-b2854842f0b5",
   "metadata": {},
   "source": [
    "The age column has a lot of nans, and I don't know how could this be afecting."
   ]
  },
  {
   "cell_type": "code",
   "execution_count": 39,
   "id": "8b09fd21-6666-4295-ba38-341eee88ff7b",
   "metadata": {},
   "outputs": [
    {
     "name": "stdout",
     "output_type": "stream",
     "text": [
      "          Pclass       Age     SibSp     Parch      Fare\n",
      "Pclass  1.000000 -0.390938  0.081656  0.016824 -0.548193\n",
      "Age    -0.390938  1.000000 -0.319953 -0.213799  0.086169\n",
      "SibSp   0.081656 -0.319953  1.000000  0.414542  0.160887\n",
      "Parch   0.016824 -0.213799  0.414542  1.000000  0.217532\n",
      "Fare   -0.548193  0.086169  0.160887  0.217532  1.000000\n"
     ]
    }
   ],
   "source": [
    "print(train_w[numerical_cols].corr())"
   ]
  },
  {
   "cell_type": "markdown",
   "id": "2d29d0a1-bc74-465d-a2ff-c779d9acec8e",
   "metadata": {},
   "source": [
    "I am going to impute missing values by training a small RandomForest predictor"
   ]
  },
  {
   "cell_type": "code",
   "execution_count": 28,
   "id": "2b08b890-fdd4-482a-8c87-0adf3a516f22",
   "metadata": {},
   "outputs": [],
   "source": [
    "features = ['Pclass', 'SibSp', 'Parch', 'Fare', 'Sex'] #Even if fare has a small correlation could be helpfull\n",
    "\n",
    "train_age = train_w[train_w['Age'].notna()].copy()\n",
    "test_age = train_w[train_w['Age'].isna()].copy()\n",
    "\n",
    "X_train = train_age[features]\n",
    "y_train = train_age['Age']\n",
    "X_test = test_age[features]\n",
    "\n",
    "model = RandomForestRegressor(n_estimators=100, random_state=42)\n",
    "model.fit(X_train, y_train)\n",
    "\n",
    "predicted_ages = model.predict(X_test) #Predict missing values\n",
    "\n",
    "train_w.loc[train_w['Age'].isna(), 'Age'] = predicted_ages #Fill the dataset, imputing the data"
   ]
  },
  {
   "cell_type": "code",
   "execution_count": 29,
   "id": "200bf57b-b5d3-4c38-8f35-8daf8f15b9dd",
   "metadata": {},
   "outputs": [],
   "source": [
    "#And I repeat for the test set, using the same predictor\n",
    "pred_age = test_w[test_w['Age'].isna()].copy()\n",
    "X_pred = pred_age[features]\n",
    "\n",
    "predicted_ages = model.predict(X_pred)\n",
    "\n",
    "test_w.loc[test_w['Age'].isna(), 'Age'] = predicted_ages"
   ]
  },
  {
   "cell_type": "code",
   "execution_count": 33,
   "id": "f7bc5503-e9be-4792-93c0-434a4693f8df",
   "metadata": {},
   "outputs": [],
   "source": [
    "#And finally I won get myself preocupied for the only one NaN fare value, i'll replace it with the mean \n",
    "test_w.loc[test_w['Fare'].isna(), 'Fare'] = 32.204208"
   ]
  },
  {
   "cell_type": "markdown",
   "id": "0e39cde0-9385-426a-a130-171f4439ae92",
   "metadata": {},
   "source": [
    "# Univariate analysis"
   ]
  },
  {
   "cell_type": "markdown",
   "id": "93249bc4-9e91-483c-bcae-6c3c3fc9e136",
   "metadata": {
    "jp-MarkdownHeadingCollapsed": true
   },
   "source": [
    "## Numerical values"
   ]
  },
  {
   "cell_type": "code",
   "execution_count": 67,
   "id": "025f385c-0b6b-48c4-a170-2adcbcb9e49c",
   "metadata": {},
   "outputs": [
    {
     "data": {
      "text/html": [
       "<div>\n",
       "<style scoped>\n",
       "    .dataframe tbody tr th:only-of-type {\n",
       "        vertical-align: middle;\n",
       "    }\n",
       "\n",
       "    .dataframe tbody tr th {\n",
       "        vertical-align: top;\n",
       "    }\n",
       "\n",
       "    .dataframe thead th {\n",
       "        text-align: right;\n",
       "    }\n",
       "</style>\n",
       "<table border=\"1\" class=\"dataframe\">\n",
       "  <thead>\n",
       "    <tr style=\"text-align: right;\">\n",
       "      <th></th>\n",
       "      <th>Age</th>\n",
       "      <th>Fare</th>\n",
       "    </tr>\n",
       "  </thead>\n",
       "  <tbody>\n",
       "    <tr>\n",
       "      <th>count</th>\n",
       "      <td>889.000000</td>\n",
       "      <td>889.000000</td>\n",
       "    </tr>\n",
       "    <tr>\n",
       "      <th>mean</th>\n",
       "      <td>29.536130</td>\n",
       "      <td>32.096681</td>\n",
       "    </tr>\n",
       "    <tr>\n",
       "      <th>std</th>\n",
       "      <td>13.696944</td>\n",
       "      <td>49.697504</td>\n",
       "    </tr>\n",
       "    <tr>\n",
       "      <th>min</th>\n",
       "      <td>0.420000</td>\n",
       "      <td>0.000000</td>\n",
       "    </tr>\n",
       "    <tr>\n",
       "      <th>25%</th>\n",
       "      <td>21.000000</td>\n",
       "      <td>7.895800</td>\n",
       "    </tr>\n",
       "    <tr>\n",
       "      <th>50%</th>\n",
       "      <td>28.000000</td>\n",
       "      <td>14.454200</td>\n",
       "    </tr>\n",
       "    <tr>\n",
       "      <th>75%</th>\n",
       "      <td>37.000000</td>\n",
       "      <td>31.000000</td>\n",
       "    </tr>\n",
       "    <tr>\n",
       "      <th>max</th>\n",
       "      <td>80.000000</td>\n",
       "      <td>512.329200</td>\n",
       "    </tr>\n",
       "  </tbody>\n",
       "</table>\n",
       "</div>"
      ],
      "text/plain": [
       "              Age        Fare\n",
       "count  889.000000  889.000000\n",
       "mean    29.536130   32.096681\n",
       "std     13.696944   49.697504\n",
       "min      0.420000    0.000000\n",
       "25%     21.000000    7.895800\n",
       "50%     28.000000   14.454200\n",
       "75%     37.000000   31.000000\n",
       "max     80.000000  512.329200"
      ]
     },
     "execution_count": 67,
     "metadata": {},
     "output_type": "execute_result"
    }
   ],
   "source": [
    "#Numerical data\n",
    "numerical_cols = train_w[feature_names].describe().columns\n",
    "numerical_cols = numerical_cols[~np.isin(numerical_cols, ['Sex', 'SibSp', 'Parch', 'Pclass'])] #Sex and Pclass gets into this group for the transformation, they are categorical\n",
    "train_w[numerical_cols].describe()  "
   ]
  },
  {
   "cell_type": "code",
   "execution_count": 78,
   "id": "efd7986b-88bc-4793-acca-1d07992e6e55",
   "metadata": {},
   "outputs": [
    {
     "data": {
      "image/png": "[encoded data removed]",
      "text/plain": [
       "<Figure size 1800x500 with 3 Axes>"
      ]
     },
     "metadata": {},
     "output_type": "display_data"
    }
   ],
   "source": [
    "fig, axes = plt.subplots(nrows=1, ncols=3, figsize=(18, 5))\n",
    "\n",
    "sns.histplot(train_w['Age'].dropna(), bins=30, kde=False, edgecolor='k', alpha=0.7, ax=axes[0])\n",
    "axes[0].set_title('Age Distribution - Histogram')\n",
    "axes[0].set_xlabel('Age')\n",
    "axes[0].set_ylabel('Frequency')\n",
    "\n",
    "sns.kdeplot(train_w['Age'].dropna(), ax=axes[1])\n",
    "axes[1].set_title('Age Distribution - KDE')\n",
    "axes[1].set_xlabel('Age')\n",
    "axes[1].set_ylabel('Density')\n",
    "\n",
    "sns.violinplot(y=train_w['Age'].dropna(), ax=axes[2])\n",
    "axes[2].set_title('Age Distribution - Violin Plot')\n",
    "axes[2].set_xlabel('')  # No label for x-axis\n",
    "axes[2].set_ylabel('Age')\n",
    "\n",
    "plt.tight_layout()\n",
    "plt.show()"
   ]
  },
  {
   "cell_type": "markdown",
   "id": "38a3c244-555a-4407-8c25-59deff06061e",
   "metadata": {},
   "source": [
    "There is an important bias towards babies and some bimodality aswell"
   ]
  },
  {
   "cell_type": "code",
   "execution_count": 85,
   "id": "429e6088-b6e3-443e-8696-eb384ede99bf",
   "metadata": {},
   "outputs": [
    {
     "data": {
      "image/png": "[encoded data removed]",
      "text/plain": [
       "<Figure size 1800x500 with 6 Axes>"
      ]
     },
     "metadata": {},
     "output_type": "display_data"
    }
   ],
   "source": [
    "fig, axes = plt.subplots(nrows=2, ncols=3, figsize=(18, 5))\n",
    "subset = train_w.copy()\n",
    "subset['Fare_log'] = np.log1p(subset['Fare'])\n",
    "\n",
    "sns.histplot(train_w['Fare'], bins=30, kde=False, edgecolor='k', alpha=0.7, ax=axes[0, 0])\n",
    "axes[0, 0].set_title('Fare Distribution - Histogram')\n",
    "axes[0, 0].set_xlabel('Fare')\n",
    "axes[0, 0].set_ylabel('Frequency')\n",
    "\n",
    "sns.kdeplot(train_w['Fare'], ax=axes[0, 1])\n",
    "axes[0, 1].set_title('Fare Distribution - KDE')\n",
    "axes[0, 1].set_xlabel('Fare')\n",
    "axes[0, 1].set_ylabel('Density')\n",
    "\n",
    "sns.violinplot(y=train_w['Fare'], ax=axes[0, 2])\n",
    "axes[0, 2].set_title('Fare Distribution - Violin Plot')\n",
    "axes[0, 2].set_xlabel('')  # No label for x-axis\n",
    "axes[0, 2].set_ylabel('Fare')\n",
    "\n",
    "sns.histplot(subset['Fare_log'], bins=30, kde=False, edgecolor='k', alpha=0.7, ax=axes[1, 0])\n",
    "axes[1, 0].set_title('Fare Distribution - Histogram - Log Transformation')\n",
    "axes[1, 0].set_xlabel('Fare')\n",
    "axes[1, 0].set_ylabel('Frequency')\n",
    "\n",
    "sns.kdeplot(subset['Fare_log'], ax=axes[1, 1])\n",
    "axes[1, 1].set_title('Fare Distribution - KDE - Log Transformation')\n",
    "axes[1, 1].set_xlabel('Fare')\n",
    "axes[1, 1].set_ylabel('Density')\n",
    "\n",
    "sns.violinplot(y=subset['Fare_log'], ax=axes[1, 2])\n",
    "axes[1, 2].set_title('Fare Distribution - Violin Plot - Log Transformation')\n",
    "axes[1, 2].set_xlabel('')  # No label for x-axis\n",
    "axes[1, 2].set_ylabel('Fare')\n",
    "\n",
    "plt.tight_layout()\n",
    "plt.show()"
   ]
  },
  {
   "cell_type": "markdown",
   "id": "ad52386b-156c-444e-adf2-a8330c565e8b",
   "metadata": {},
   "source": [
    "There is a marked asymmetry to the right.\n",
    "\n",
    "This distribution probably has some outliers due to the rich passengers. Given that I am thinking to train a Random Forest Model it shouldn't be necessary to use the log transformation in it, but it is helpfull here in the visualization"
   ]
  },
  {
   "cell_type": "code",
   "execution_count": 88,
   "id": "1d259071-e92d-4617-a3d5-93da9c26679c",
   "metadata": {},
   "outputs": [
    {
     "data": {
      "text/html": [
       "<div>\n",
       "<style scoped>\n",
       "    .dataframe tbody tr th:only-of-type {\n",
       "        vertical-align: middle;\n",
       "    }\n",
       "\n",
       "    .dataframe tbody tr th {\n",
       "        vertical-align: top;\n",
       "    }\n",
       "\n",
       "    .dataframe thead th {\n",
       "        text-align: right;\n",
       "    }\n",
       "</style>\n",
       "<table border=\"1\" class=\"dataframe\">\n",
       "  <thead>\n",
       "    <tr style=\"text-align: right;\">\n",
       "      <th></th>\n",
       "      <th>Age</th>\n",
       "      <th>Fare</th>\n",
       "      <th>Survived</th>\n",
       "    </tr>\n",
       "  </thead>\n",
       "  <tbody>\n",
       "    <tr>\n",
       "      <th>Age</th>\n",
       "      <td>1.000000</td>\n",
       "      <td>0.086169</td>\n",
       "      <td>-0.073897</td>\n",
       "    </tr>\n",
       "    <tr>\n",
       "      <th>Fare</th>\n",
       "      <td>0.086169</td>\n",
       "      <td>1.000000</td>\n",
       "      <td>0.255290</td>\n",
       "    </tr>\n",
       "    <tr>\n",
       "      <th>Survived</th>\n",
       "      <td>-0.073897</td>\n",
       "      <td>0.255290</td>\n",
       "      <td>1.000000</td>\n",
       "    </tr>\n",
       "  </tbody>\n",
       "</table>\n",
       "</div>"
      ],
      "text/plain": [
       "               Age      Fare  Survived\n",
       "Age       1.000000  0.086169 -0.073897\n",
       "Fare      0.086169  1.000000  0.255290\n",
       "Survived -0.073897  0.255290  1.000000"
      ]
     },
     "execution_count": 88,
     "metadata": {},
     "output_type": "execute_result"
    }
   ],
   "source": [
    "train_w[['Age', 'Fare', 'Survived']].corr()"
   ]
  },
  {
   "cell_type": "markdown",
   "id": "dff6bf32-5d6b-4b5c-abd4-671b00759d8d",
   "metadata": {},
   "source": [
    "There is a \"strong\" overal correlation between Fare and survival, leaning towards a better chance increasing with the price of the ticket. It doesnt show too much for the age variable, but this could be due to a sum of different tendencies."
   ]
  },
  {
   "cell_type": "code",
   "execution_count": 94,
   "id": "295cf6f5-27f8-41ed-9578-802da33b84e2",
   "metadata": {},
   "outputs": [
    {
     "data": {
      "text/html": [
       "<div>\n",
       "<style scoped>\n",
       "    .dataframe tbody tr th:only-of-type {\n",
       "        vertical-align: middle;\n",
       "    }\n",
       "\n",
       "    .dataframe tbody tr th {\n",
       "        vertical-align: top;\n",
       "    }\n",
       "\n",
       "    .dataframe thead th {\n",
       "        text-align: right;\n",
       "    }\n",
       "</style>\n",
       "<table border=\"1\" class=\"dataframe\">\n",
       "  <thead>\n",
       "    <tr style=\"text-align: right;\">\n",
       "      <th></th>\n",
       "      <th>AgeGroup_Toddler</th>\n",
       "      <th>AgeGroup_Child</th>\n",
       "      <th>AgeGroup_Teenager</th>\n",
       "      <th>AgeGroup_Young Adult</th>\n",
       "      <th>AgeGroup_Adult</th>\n",
       "      <th>AgeGroup_Senior</th>\n",
       "      <th>Survived</th>\n",
       "    </tr>\n",
       "  </thead>\n",
       "  <tbody>\n",
       "    <tr>\n",
       "      <th>AgeGroup_Toddler</th>\n",
       "      <td>1.000000</td>\n",
       "      <td>-0.041940</td>\n",
       "      <td>-0.041940</td>\n",
       "      <td>-0.184590</td>\n",
       "      <td>-0.102161</td>\n",
       "      <td>-0.028912</td>\n",
       "      <td>0.083133</td>\n",
       "    </tr>\n",
       "    <tr>\n",
       "      <th>AgeGroup_Child</th>\n",
       "      <td>-0.041940</td>\n",
       "      <td>1.000000</td>\n",
       "      <td>-0.063397</td>\n",
       "      <td>-0.279027</td>\n",
       "      <td>-0.154426</td>\n",
       "      <td>-0.043703</td>\n",
       "      <td>0.046238</td>\n",
       "    </tr>\n",
       "    <tr>\n",
       "      <th>AgeGroup_Teenager</th>\n",
       "      <td>-0.041940</td>\n",
       "      <td>-0.063397</td>\n",
       "      <td>1.000000</td>\n",
       "      <td>-0.279027</td>\n",
       "      <td>-0.154426</td>\n",
       "      <td>-0.043703</td>\n",
       "      <td>0.036463</td>\n",
       "    </tr>\n",
       "    <tr>\n",
       "      <th>AgeGroup_Young Adult</th>\n",
       "      <td>-0.184590</td>\n",
       "      <td>-0.279027</td>\n",
       "      <td>-0.279027</td>\n",
       "      <td>1.000000</td>\n",
       "      <td>-0.679671</td>\n",
       "      <td>-0.192350</td>\n",
       "      <td>-0.067020</td>\n",
       "    </tr>\n",
       "    <tr>\n",
       "      <th>AgeGroup_Adult</th>\n",
       "      <td>-0.102161</td>\n",
       "      <td>-0.154426</td>\n",
       "      <td>-0.154426</td>\n",
       "      <td>-0.679671</td>\n",
       "      <td>1.000000</td>\n",
       "      <td>-0.106456</td>\n",
       "      <td>0.021107</td>\n",
       "    </tr>\n",
       "    <tr>\n",
       "      <th>AgeGroup_Senior</th>\n",
       "      <td>-0.028912</td>\n",
       "      <td>-0.043703</td>\n",
       "      <td>-0.043703</td>\n",
       "      <td>-0.192350</td>\n",
       "      <td>-0.106456</td>\n",
       "      <td>1.000000</td>\n",
       "      <td>-0.054174</td>\n",
       "    </tr>\n",
       "    <tr>\n",
       "      <th>Survived</th>\n",
       "      <td>0.083133</td>\n",
       "      <td>0.046238</td>\n",
       "      <td>0.036463</td>\n",
       "      <td>-0.067020</td>\n",
       "      <td>0.021107</td>\n",
       "      <td>-0.054174</td>\n",
       "      <td>1.000000</td>\n",
       "    </tr>\n",
       "  </tbody>\n",
       "</table>\n",
       "</div>"
      ],
      "text/plain": [
       "                      AgeGroup_Toddler  AgeGroup_Child  AgeGroup_Teenager  \\\n",
       "AgeGroup_Toddler              1.000000       -0.041940          -0.041940   \n",
       "AgeGroup_Child               -0.041940        1.000000          -0.063397   \n",
       "AgeGroup_Teenager            -0.041940       -0.063397           1.000000   \n",
       "AgeGroup_Young Adult         -0.184590       -0.279027          -0.279027   \n",
       "AgeGroup_Adult               -0.102161       -0.154426          -0.154426   \n",
       "AgeGroup_Senior              -0.028912       -0.043703          -0.043703   \n",
       "Survived                      0.083133        0.046238           0.036463   \n",
       "\n",
       "                      AgeGroup_Young Adult  AgeGroup_Adult  AgeGroup_Senior  \\\n",
       "AgeGroup_Toddler                 -0.184590       -0.102161        -0.028912   \n",
       "AgeGroup_Child                   -0.279027       -0.154426        -0.043703   \n",
       "AgeGroup_Teenager                -0.279027       -0.154426        -0.043703   \n",
       "AgeGroup_Young Adult              1.000000       -0.679671        -0.192350   \n",
       "AgeGroup_Adult                   -0.679671        1.000000        -0.106456   \n",
       "AgeGroup_Senior                  -0.192350       -0.106456         1.000000   \n",
       "Survived                         -0.067020        0.021107        -0.054174   \n",
       "\n",
       "                      Survived  \n",
       "AgeGroup_Toddler      0.083133  \n",
       "AgeGroup_Child        0.046238  \n",
       "AgeGroup_Teenager     0.036463  \n",
       "AgeGroup_Young Adult -0.067020  \n",
       "AgeGroup_Adult        0.021107  \n",
       "AgeGroup_Senior      -0.054174  \n",
       "Survived              1.000000  "
      ]
     },
     "execution_count": 94,
     "metadata": {},
     "output_type": "execute_result"
    }
   ],
   "source": [
    "subset = train_w.copy()\n",
    "bins = [0, 3, 12, 18, 35, 60, np.inf]\n",
    "labels = ['Toddler', 'Child', 'Teenager', 'Young Adult', 'Adult', 'Senior']\n",
    "subset['Age_group'] = pd.cut(subset['Age'], bins=bins, labels=labels, right=False)\n",
    "\n",
    "age_group_dummies = pd.get_dummies(subset['Age_group'], prefix='AgeGroup')\n",
    "subset = pd.concat([subset, age_group_dummies.astype(int)], axis=1)\n",
    "newlabels = [f'AgeGroup_{label}' for label in labels]\n",
    "newlabels.append('Survived')\n",
    "subset[newlabels].corr()"
   ]
  },
  {
   "cell_type": "code",
   "execution_count": 96,
   "id": "e85ddc81-2d86-47a3-93d0-b2ac0d07080d",
   "metadata": {},
   "outputs": [
    {
     "data": {
      "text/html": [
       "<div>\n",
       "<style scoped>\n",
       "    .dataframe tbody tr th:only-of-type {\n",
       "        vertical-align: middle;\n",
       "    }\n",
       "\n",
       "    .dataframe tbody tr th {\n",
       "        vertical-align: top;\n",
       "    }\n",
       "\n",
       "    .dataframe thead th {\n",
       "        text-align: right;\n",
       "    }\n",
       "</style>\n",
       "<table border=\"1\" class=\"dataframe\">\n",
       "  <thead>\n",
       "    <tr style=\"text-align: right;\">\n",
       "      <th></th>\n",
       "      <th>Fare_group_Very Low</th>\n",
       "      <th>Fare_group_Low</th>\n",
       "      <th>Fare_group_Medium</th>\n",
       "      <th>Fare_group_High</th>\n",
       "      <th>Survived</th>\n",
       "    </tr>\n",
       "  </thead>\n",
       "  <tbody>\n",
       "    <tr>\n",
       "      <th>Fare_group_Very Low</th>\n",
       "      <td>1.000000</td>\n",
       "      <td>-0.052995</td>\n",
       "      <td>-0.250612</td>\n",
       "      <td>-0.209786</td>\n",
       "      <td>0.129342</td>\n",
       "    </tr>\n",
       "    <tr>\n",
       "      <th>Fare_group_Low</th>\n",
       "      <td>-0.052995</td>\n",
       "      <td>1.000000</td>\n",
       "      <td>-0.205367</td>\n",
       "      <td>-0.171911</td>\n",
       "      <td>-0.013336</td>\n",
       "    </tr>\n",
       "    <tr>\n",
       "      <th>Fare_group_Medium</th>\n",
       "      <td>-0.250612</td>\n",
       "      <td>-0.205367</td>\n",
       "      <td>1.000000</td>\n",
       "      <td>-0.812966</td>\n",
       "      <td>-0.053306</td>\n",
       "    </tr>\n",
       "    <tr>\n",
       "      <th>Fare_group_High</th>\n",
       "      <td>-0.209786</td>\n",
       "      <td>-0.171911</td>\n",
       "      <td>-0.812966</td>\n",
       "      <td>1.000000</td>\n",
       "      <td>-0.003219</td>\n",
       "    </tr>\n",
       "    <tr>\n",
       "      <th>Survived</th>\n",
       "      <td>0.129342</td>\n",
       "      <td>-0.013336</td>\n",
       "      <td>-0.053306</td>\n",
       "      <td>-0.003219</td>\n",
       "      <td>1.000000</td>\n",
       "    </tr>\n",
       "  </tbody>\n",
       "</table>\n",
       "</div>"
      ],
      "text/plain": [
       "                     Fare_group_Very Low  Fare_group_Low  Fare_group_Medium  \\\n",
       "Fare_group_Very Low             1.000000       -0.052995          -0.250612   \n",
       "Fare_group_Low                 -0.052995        1.000000          -0.205367   \n",
       "Fare_group_Medium              -0.250612       -0.205367           1.000000   \n",
       "Fare_group_High                -0.209786       -0.171911          -0.812966   \n",
       "Survived                        0.129342       -0.013336          -0.053306   \n",
       "\n",
       "                     Fare_group_High  Survived  \n",
       "Fare_group_Very Low        -0.209786  0.129342  \n",
       "Fare_group_Low             -0.171911 -0.013336  \n",
       "Fare_group_Medium          -0.812966 -0.053306  \n",
       "Fare_group_High             1.000000 -0.003219  \n",
       "Survived                   -0.003219  1.000000  "
      ]
     },
     "execution_count": 96,
     "metadata": {},
     "output_type": "execute_result"
    }
   ],
   "source": [
    "subset = train_w.copy()\n",
    "bins = [0, 8, 15, 31, np.inf]\n",
    "labels = ['Very Low', 'Low', 'Medium', 'High']\n",
    "subset['Fare_group'] = pd.cut(subset['Age'], bins=bins, labels=labels, right=False)\n",
    "\n",
    "age_group_dummies = pd.get_dummies(subset['Fare_group'], prefix='Fare_group')\n",
    "subset = pd.concat([subset, age_group_dummies.astype(int)], axis=1)\n",
    "newlabels = [f'Fare_group_{label}' for label in labels]\n",
    "newlabels.append('Survived')\n",
    "subset[newlabels].corr()"
   ]
  },
  {
   "cell_type": "markdown",
   "id": "e225bd65-0d1e-49fc-baab-076228567ef0",
   "metadata": {},
   "source": [
    "Interestingly, there is a higher correlation with survival at a lower price."
   ]
  },
  {
   "cell_type": "markdown",
   "id": "80d01e5b-4f6c-42c4-ba01-16b504cc7385",
   "metadata": {},
   "source": [
    "## Categorical values"
   ]
  },
  {
   "cell_type": "code",
   "execution_count": 69,
   "id": "f517b589-db94-4899-8c3d-70f1ba2bc029",
   "metadata": {},
   "outputs": [
    {
     "data": {
      "text/plain": [
       "SibSp\n",
       "0    606\n",
       "1    209\n",
       "2     28\n",
       "4     18\n",
       "3     16\n",
       "8      7\n",
       "5      5\n",
       "Name: count, dtype: int64"
      ]
     },
     "execution_count": 69,
     "metadata": {},
     "output_type": "execute_result"
    }
   ],
   "source": [
    "train_w['SibSp'].value_counts()"
   ]
  },
  {
   "cell_type": "code",
   "execution_count": 68,
   "id": "94974830-f9f7-42a0-be91-ecd11bbe7952",
   "metadata": {},
   "outputs": [
    {
     "data": {
      "text/plain": [
       "Parch\n",
       "0    676\n",
       "1    118\n",
       "2     80\n",
       "5      5\n",
       "3      5\n",
       "4      4\n",
       "6      1\n",
       "Name: count, dtype: int64"
      ]
     },
     "execution_count": 68,
     "metadata": {},
     "output_type": "execute_result"
    }
   ],
   "source": [
    "train_w['Parch'].value_counts()"
   ]
  },
  {
   "cell_type": "code",
   "execution_count": 71,
   "id": "223a673d-1fa2-4016-b75c-9bc504165496",
   "metadata": {},
   "outputs": [
    {
     "data": {
      "text/html": [
       "<div>\n",
       "<style scoped>\n",
       "    .dataframe tbody tr th:only-of-type {\n",
       "        vertical-align: middle;\n",
       "    }\n",
       "\n",
       "    .dataframe tbody tr th {\n",
       "        vertical-align: top;\n",
       "    }\n",
       "\n",
       "    .dataframe thead th {\n",
       "        text-align: right;\n",
       "    }\n",
       "</style>\n",
       "<table border=\"1\" class=\"dataframe\">\n",
       "  <thead>\n",
       "    <tr style=\"text-align: right;\">\n",
       "      <th></th>\n",
       "      <th>Ticket</th>\n",
       "      <th>Cabin</th>\n",
       "      <th>Embarked</th>\n",
       "      <th>Sex</th>\n",
       "      <th>SibSp</th>\n",
       "      <th>Parch</th>\n",
       "      <th>Pclass</th>\n",
       "    </tr>\n",
       "  </thead>\n",
       "  <tbody>\n",
       "    <tr>\n",
       "      <th>count</th>\n",
       "      <td>889</td>\n",
       "      <td>889</td>\n",
       "      <td>889</td>\n",
       "      <td>889</td>\n",
       "      <td>889</td>\n",
       "      <td>889</td>\n",
       "      <td>889</td>\n",
       "    </tr>\n",
       "    <tr>\n",
       "      <th>unique</th>\n",
       "      <td>680</td>\n",
       "      <td>147</td>\n",
       "      <td>3</td>\n",
       "      <td>2</td>\n",
       "      <td>7</td>\n",
       "      <td>7</td>\n",
       "      <td>3</td>\n",
       "    </tr>\n",
       "    <tr>\n",
       "      <th>top</th>\n",
       "      <td>347082</td>\n",
       "      <td>unknown</td>\n",
       "      <td>S</td>\n",
       "      <td>male</td>\n",
       "      <td>0</td>\n",
       "      <td>0</td>\n",
       "      <td>third</td>\n",
       "    </tr>\n",
       "    <tr>\n",
       "      <th>freq</th>\n",
       "      <td>7</td>\n",
       "      <td>687</td>\n",
       "      <td>644</td>\n",
       "      <td>577</td>\n",
       "      <td>606</td>\n",
       "      <td>676</td>\n",
       "      <td>491</td>\n",
       "    </tr>\n",
       "  </tbody>\n",
       "</table>\n",
       "</div>"
      ],
      "text/plain": [
       "        Ticket    Cabin Embarked   Sex SibSp Parch Pclass\n",
       "count      889      889      889   889   889   889    889\n",
       "unique     680      147        3     2     7     7      3\n",
       "top     347082  unknown        S  male     0     0  third\n",
       "freq         7      687      644   577   606   676    491"
      ]
     },
     "execution_count": 71,
     "metadata": {},
     "output_type": "execute_result"
    }
   ],
   "source": [
    "#Categorical data\n",
    "categorical_cols = train_w[feature_names].describe(include='object').columns\n",
    "categorical_cols = np.append(categorical_cols, ['Sex', 'SibSp', 'Parch', 'Pclass']) #Those that got left behind\n",
    "subset = train_w.copy()\n",
    "subset['Sex'] = train_w['Sex'].map({0 : 'male', 1 : 'female'})\n",
    "subset['SibSp'] = train_w['SibSp'].map({0: '0', 1: '1', 2: '2', 3: '3', 4: '4', 5: '5', 8: '8'})\n",
    "subset['Parch'] = train_w['Parch'].map({0: '0', 1: '1', 2: '2', 3: '3', 4: '4', 5: '5', 6: '6'})\n",
    "subset['Pclass'] = train_w['Pclass'].map({1 : 'first', 2 : 'second', 3 : 'third'})\n",
    "subset[categorical_cols].describe(include='object') "
   ]
  },
  {
   "cell_type": "markdown",
   "id": "995276ec-f556-4b9d-92e0-3cd1ee479a7b",
   "metadata": {},
   "source": [
    "This description reveals a notable dominance of class 3, a higher proportion of male passengers, and a large number of people traveling without siblings/spouses or parents/children on board. In addition, cabin information is largely absent."
   ]
  },
  {
   "cell_type": "markdown",
   "id": "67f1239e-fe02-4103-ac8b-b19113546e28",
   "metadata": {},
   "source": [
    "Sex is already a one hot encoded value, so we leave it like that. Pclass, which is categorical is also ordinal, so we can again leave it be like that"
   ]
  },
  {
   "cell_type": "code",
   "execution_count": 63,
   "id": "1801ed10-1474-4f71-b75c-eba720a52893",
   "metadata": {},
   "outputs": [
    {
     "data": {
      "text/plain": [
       "array(['Ticket', 'Cabin', 'Embarked', 'Sex', 'Pclass'], dtype=object)"
      ]
     },
     "execution_count": 63,
     "metadata": {},
     "output_type": "execute_result"
    }
   ],
   "source": [
    "contingency_table = pd.crosstab(train_w['CabinNumber'], train_w['Survived'])\n",
    "chi2_stat, p_value, dof, expected = chi2_contingency(contingency_table)"
   ]
  },
  {
   "cell_type": "code",
   "execution_count": 106,
   "id": "b0222611-7f65-41c4-9b82-f7091390f016",
   "metadata": {},
   "outputs": [
    {
     "name": "stdout",
     "output_type": "stream",
     "text": [
      "+----------+-----------+---------+-----+\n",
      "| Variable | Chi2 stat | p value | dof |\n",
      "+----------+-----------+---------+-----+\n",
      "|  Ticket  |   764.40  |  0.0124 | 679 |\n",
      "|  Cabin   |   238.11  |  0.0000 | 146 |\n",
      "| Embarked |   26.49   |  0.0000 |  2  |\n",
      "|   Sex    |   258.43  |  0.0000 |  1  |\n",
      "|  SibSp   |   37.74   |  0.0000 |  6  |\n",
      "|  Parch   |   28.40   |  0.0001 |  6  |\n",
      "|  Pclass  |   100.98  |  0.0000 |  2  |\n",
      "+----------+-----------+---------+-----+\n"
     ]
    }
   ],
   "source": [
    "table = PrettyTable()\n",
    "table.field_names = ['Variable', 'Chi2 stat', 'p value', 'dof']\n",
    "for variable in categorical_cols:\n",
    "    contingency_table = pd.crosstab(train_w[variable], train_w['Survived'])\n",
    "    chi2_stat, p_value, dof, expected = chi2_contingency(contingency_table)\n",
    "    table.add_row([variable, f'{chi2_stat:.2f}', f'{p_value:.4f}', dof])\n",
    "\n",
    "print(table)"
   ]
  },
  {
   "cell_type": "markdown",
   "id": "5c397067-9b87-4aaf-9916-6e93ba8e0a60",
   "metadata": {},
   "source": [
    "Every single variable has a very low p value. This means that in each case we cannot discart the cero hypotesis, so there must be a relation between survival chance and each variable"
   ]
  },
  {
   "cell_type": "code",
   "execution_count": null,
   "id": "03500894-e8ef-4292-8341-1f974054956b",
   "metadata": {},
   "outputs": [],
   "source": []
  }
 ],
 "metadata": {
  "kernelspec": {
   "display_name": "Python 3 (ipykernel)",
   "language": "python",
   "name": "python3"
  },
  "language_info": {
   "codemirror_mode": {
    "name": "ipython",
    "version": 3
   },
   "file_extension": ".py",
   "mimetype": "text/x-python",
   "name": "python",
   "nbconvert_exporter": "python",
   "pygments_lexer": "ipython3",
   "version": "3.10.6"
  }
 },
 "nbformat": 4,
 "nbformat_minor": 5
}
